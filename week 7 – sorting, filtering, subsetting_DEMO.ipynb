{
 "cells": [
  {
   "cell_type": "markdown",
   "metadata": {
    "id": "PTYY-5ZgQanj",
    "slideshow": {
     "slide_type": "slide"
    }
   },
   "source": [
    "# Pandas for Data Analysis 1 – sorting, filtering, subsetting"
   ]
  },
  {
   "cell_type": "markdown",
   "metadata": {
    "id": "YiVZ8MSIQvtB",
    "slideshow": {
     "slide_type": "slide"
    }
   },
   "source": [
    "## Import libraries"
   ]
  },
  {
   "cell_type": "code",
   "execution_count": 1,
   "metadata": {
    "id": "t1dS8JNuQanp",
    "slideshow": {
     "slide_type": "slide"
    }
   },
   "outputs": [],
   "source": [
    "## import libraries\n",
    "import pandas as pd"
   ]
  },
  {
   "cell_type": "markdown",
   "metadata": {
    "id": "m327Z0HZQanq",
    "slideshow": {
     "slide_type": "slide"
    }
   },
   "source": [
    "## Upload Olympics datasets to this notebook.\n",
    "\n",
    "### Import ```summer.csv``` and store in a dataframe called ```oly_s```.\n",
    "\n",
    "### Import ```winter.csv``` and store in a dataframe called ```oly_w```."
   ]
  },
  {
   "cell_type": "code",
   "execution_count": 2,
   "metadata": {
    "colab": {
     "base_uri": "https://localhost:8080/",
     "height": 195
    },
    "executionInfo": {
     "elapsed": 330,
     "status": "ok",
     "timestamp": 1617984692314,
     "user": {
      "displayName": "Sandeep Junnarkar",
      "photoUrl": "",
      "userId": "15658885848901522782"
     },
     "user_tz": 240
    },
    "id": "8t3VRwaBQanq",
    "outputId": "1ae4f52f-9778-4438-9dad-787ea0c05fb8",
    "slideshow": {
     "slide_type": "slide"
    }
   },
   "outputs": [
    {
     "data": {
      "text/html": [
       "<div>\n",
       "<style scoped>\n",
       "    .dataframe tbody tr th:only-of-type {\n",
       "        vertical-align: middle;\n",
       "    }\n",
       "\n",
       "    .dataframe tbody tr th {\n",
       "        vertical-align: top;\n",
       "    }\n",
       "\n",
       "    .dataframe thead th {\n",
       "        text-align: right;\n",
       "    }\n",
       "</style>\n",
       "<table border=\"1\" class=\"dataframe\">\n",
       "  <thead>\n",
       "    <tr style=\"text-align: right;\">\n",
       "      <th></th>\n",
       "      <th>Year</th>\n",
       "      <th>City</th>\n",
       "      <th>Sport</th>\n",
       "      <th>Discipline</th>\n",
       "      <th>Athlete</th>\n",
       "      <th>Country</th>\n",
       "      <th>Gender</th>\n",
       "      <th>Event</th>\n",
       "      <th>Medal</th>\n",
       "    </tr>\n",
       "  </thead>\n",
       "  <tbody>\n",
       "    <tr>\n",
       "      <th>0</th>\n",
       "      <td>1896</td>\n",
       "      <td>Athens</td>\n",
       "      <td>Aquatics</td>\n",
       "      <td>Swimming</td>\n",
       "      <td>HAJOS, Alfred</td>\n",
       "      <td>HUN</td>\n",
       "      <td>Men</td>\n",
       "      <td>100M Freestyle</td>\n",
       "      <td>Gold</td>\n",
       "    </tr>\n",
       "    <tr>\n",
       "      <th>1</th>\n",
       "      <td>1896</td>\n",
       "      <td>Athens</td>\n",
       "      <td>Aquatics</td>\n",
       "      <td>Swimming</td>\n",
       "      <td>HERSCHMANN, Otto</td>\n",
       "      <td>AUT</td>\n",
       "      <td>Men</td>\n",
       "      <td>100M Freestyle</td>\n",
       "      <td>Silver</td>\n",
       "    </tr>\n",
       "    <tr>\n",
       "      <th>2</th>\n",
       "      <td>1896</td>\n",
       "      <td>Athens</td>\n",
       "      <td>Aquatics</td>\n",
       "      <td>Swimming</td>\n",
       "      <td>DRIVAS, Dimitrios</td>\n",
       "      <td>GRE</td>\n",
       "      <td>Men</td>\n",
       "      <td>100M Freestyle For Sailors</td>\n",
       "      <td>Bronze</td>\n",
       "    </tr>\n",
       "    <tr>\n",
       "      <th>3</th>\n",
       "      <td>1896</td>\n",
       "      <td>Athens</td>\n",
       "      <td>Aquatics</td>\n",
       "      <td>Swimming</td>\n",
       "      <td>MALOKINIS, Ioannis</td>\n",
       "      <td>GRE</td>\n",
       "      <td>Men</td>\n",
       "      <td>100M Freestyle For Sailors</td>\n",
       "      <td>Gold</td>\n",
       "    </tr>\n",
       "    <tr>\n",
       "      <th>4</th>\n",
       "      <td>1896</td>\n",
       "      <td>Athens</td>\n",
       "      <td>Aquatics</td>\n",
       "      <td>Swimming</td>\n",
       "      <td>CHASAPIS, Spiridon</td>\n",
       "      <td>GRE</td>\n",
       "      <td>Men</td>\n",
       "      <td>100M Freestyle For Sailors</td>\n",
       "      <td>Silver</td>\n",
       "    </tr>\n",
       "  </tbody>\n",
       "</table>\n",
       "</div>"
      ],
      "text/plain": [
       "   Year    City     Sport Discipline             Athlete Country Gender  \\\n",
       "0  1896  Athens  Aquatics   Swimming       HAJOS, Alfred     HUN    Men   \n",
       "1  1896  Athens  Aquatics   Swimming    HERSCHMANN, Otto     AUT    Men   \n",
       "2  1896  Athens  Aquatics   Swimming   DRIVAS, Dimitrios     GRE    Men   \n",
       "3  1896  Athens  Aquatics   Swimming  MALOKINIS, Ioannis     GRE    Men   \n",
       "4  1896  Athens  Aquatics   Swimming  CHASAPIS, Spiridon     GRE    Men   \n",
       "\n",
       "                        Event   Medal  \n",
       "0              100M Freestyle    Gold  \n",
       "1              100M Freestyle  Silver  \n",
       "2  100M Freestyle For Sailors  Bronze  \n",
       "3  100M Freestyle For Sailors    Gold  \n",
       "4  100M Freestyle For Sailors  Silver  "
      ]
     },
     "execution_count": 2,
     "metadata": {},
     "output_type": "execute_result"
    }
   ],
   "source": [
    "## import summer data\n",
    "oly_s = pd.read_csv(\"data/summer.csv\")\n",
    "oly_s.head()"
   ]
  },
  {
   "cell_type": "code",
   "execution_count": 3,
   "metadata": {
    "colab": {
     "base_uri": "https://localhost:8080/",
     "height": 195
    },
    "executionInfo": {
     "elapsed": 624,
     "status": "ok",
     "timestamp": 1617984696331,
     "user": {
      "displayName": "Sandeep Junnarkar",
      "photoUrl": "",
      "userId": "15658885848901522782"
     },
     "user_tz": 240
    },
    "id": "020gARVnQanr",
    "outputId": "cc2ee223-20ec-488b-92a4-16207a23b4b1",
    "slideshow": {
     "slide_type": "slide"
    }
   },
   "outputs": [
    {
     "data": {
      "text/html": [
       "<div>\n",
       "<style scoped>\n",
       "    .dataframe tbody tr th:only-of-type {\n",
       "        vertical-align: middle;\n",
       "    }\n",
       "\n",
       "    .dataframe tbody tr th {\n",
       "        vertical-align: top;\n",
       "    }\n",
       "\n",
       "    .dataframe thead th {\n",
       "        text-align: right;\n",
       "    }\n",
       "</style>\n",
       "<table border=\"1\" class=\"dataframe\">\n",
       "  <thead>\n",
       "    <tr style=\"text-align: right;\">\n",
       "      <th></th>\n",
       "      <th>Year</th>\n",
       "      <th>City</th>\n",
       "      <th>Sport</th>\n",
       "      <th>Discipline</th>\n",
       "      <th>Athlete</th>\n",
       "      <th>Country</th>\n",
       "      <th>Gender</th>\n",
       "      <th>Event</th>\n",
       "      <th>Medal</th>\n",
       "    </tr>\n",
       "  </thead>\n",
       "  <tbody>\n",
       "    <tr>\n",
       "      <th>0</th>\n",
       "      <td>1924</td>\n",
       "      <td>Chamonix</td>\n",
       "      <td>Biathlon</td>\n",
       "      <td>Biathlon</td>\n",
       "      <td>BERTHET, G.</td>\n",
       "      <td>FRA</td>\n",
       "      <td>Men</td>\n",
       "      <td>Military Patrol</td>\n",
       "      <td>Bronze</td>\n",
       "    </tr>\n",
       "    <tr>\n",
       "      <th>1</th>\n",
       "      <td>1924</td>\n",
       "      <td>Chamonix</td>\n",
       "      <td>Biathlon</td>\n",
       "      <td>Biathlon</td>\n",
       "      <td>MANDRILLON, C.</td>\n",
       "      <td>FRA</td>\n",
       "      <td>Men</td>\n",
       "      <td>Military Patrol</td>\n",
       "      <td>Bronze</td>\n",
       "    </tr>\n",
       "    <tr>\n",
       "      <th>2</th>\n",
       "      <td>1924</td>\n",
       "      <td>Chamonix</td>\n",
       "      <td>Biathlon</td>\n",
       "      <td>Biathlon</td>\n",
       "      <td>MANDRILLON, Maurice</td>\n",
       "      <td>FRA</td>\n",
       "      <td>Men</td>\n",
       "      <td>Military Patrol</td>\n",
       "      <td>Bronze</td>\n",
       "    </tr>\n",
       "    <tr>\n",
       "      <th>3</th>\n",
       "      <td>1924</td>\n",
       "      <td>Chamonix</td>\n",
       "      <td>Biathlon</td>\n",
       "      <td>Biathlon</td>\n",
       "      <td>VANDELLE, André</td>\n",
       "      <td>FRA</td>\n",
       "      <td>Men</td>\n",
       "      <td>Military Patrol</td>\n",
       "      <td>Bronze</td>\n",
       "    </tr>\n",
       "    <tr>\n",
       "      <th>4</th>\n",
       "      <td>1924</td>\n",
       "      <td>Chamonix</td>\n",
       "      <td>Biathlon</td>\n",
       "      <td>Biathlon</td>\n",
       "      <td>AUFDENBLATTEN, Adolf</td>\n",
       "      <td>SUI</td>\n",
       "      <td>Men</td>\n",
       "      <td>Military Patrol</td>\n",
       "      <td>Gold</td>\n",
       "    </tr>\n",
       "  </tbody>\n",
       "</table>\n",
       "</div>"
      ],
      "text/plain": [
       "   Year      City     Sport Discipline               Athlete Country Gender  \\\n",
       "0  1924  Chamonix  Biathlon   Biathlon           BERTHET, G.     FRA    Men   \n",
       "1  1924  Chamonix  Biathlon   Biathlon        MANDRILLON, C.     FRA    Men   \n",
       "2  1924  Chamonix  Biathlon   Biathlon   MANDRILLON, Maurice     FRA    Men   \n",
       "3  1924  Chamonix  Biathlon   Biathlon       VANDELLE, André     FRA    Men   \n",
       "4  1924  Chamonix  Biathlon   Biathlon  AUFDENBLATTEN, Adolf     SUI    Men   \n",
       "\n",
       "             Event   Medal  \n",
       "0  Military Patrol  Bronze  \n",
       "1  Military Patrol  Bronze  \n",
       "2  Military Patrol  Bronze  \n",
       "3  Military Patrol  Bronze  \n",
       "4  Military Patrol    Gold  "
      ]
     },
     "execution_count": 3,
     "metadata": {},
     "output_type": "execute_result"
    }
   ],
   "source": [
    "## import winter data\n",
    "oly_w = pd.read_csv(\"data/winter.csv\")\n",
    "oly_w.head()"
   ]
  },
  {
   "cell_type": "markdown",
   "metadata": {
    "id": "E5fU1dgxQans",
    "slideshow": {
     "slide_type": "slide"
    }
   },
   "source": [
    "## Get a sense of the data"
   ]
  },
  {
   "cell_type": "code",
   "execution_count": 4,
   "metadata": {
    "colab": {
     "base_uri": "https://localhost:8080/"
    },
    "executionInfo": {
     "elapsed": 194,
     "status": "ok",
     "timestamp": 1617984699794,
     "user": {
      "displayName": "Sandeep Junnarkar",
      "photoUrl": "",
      "userId": "15658885848901522782"
     },
     "user_tz": 240
    },
    "id": "iwBtMtplQans",
    "outputId": "233e52d1-6dd8-47a1-bc7b-d728a2beeeea",
    "slideshow": {
     "slide_type": "slide"
    }
   },
   "outputs": [
    {
     "name": "stdout",
     "output_type": "stream",
     "text": [
      "<class 'pandas.core.frame.DataFrame'>\n",
      "RangeIndex: 31165 entries, 0 to 31164\n",
      "Data columns (total 9 columns):\n",
      " #   Column      Non-Null Count  Dtype \n",
      "---  ------      --------------  ----- \n",
      " 0   Year        31165 non-null  int64 \n",
      " 1   City        31165 non-null  object\n",
      " 2   Sport       31165 non-null  object\n",
      " 3   Discipline  31165 non-null  object\n",
      " 4   Athlete     31165 non-null  object\n",
      " 5   Country     31161 non-null  object\n",
      " 6   Gender      31165 non-null  object\n",
      " 7   Event       31165 non-null  object\n",
      " 8   Medal       31165 non-null  object\n",
      "dtypes: int64(1), object(8)\n",
      "memory usage: 2.1+ MB\n"
     ]
    }
   ],
   "source": [
    "## SUMMER\n",
    "## what exactly do we have: columns, datatypes, etc.\n",
    "oly_s.info()"
   ]
  },
  {
   "cell_type": "code",
   "execution_count": 5,
   "metadata": {
    "colab": {
     "base_uri": "https://localhost:8080/"
    },
    "executionInfo": {
     "elapsed": 191,
     "status": "ok",
     "timestamp": 1617984702051,
     "user": {
      "displayName": "Sandeep Junnarkar",
      "photoUrl": "",
      "userId": "15658885848901522782"
     },
     "user_tz": 240
    },
    "id": "MhEqovNFQans",
    "outputId": "ba974fb7-321e-483f-b7e3-2e5977f14d61",
    "slideshow": {
     "slide_type": "slide"
    }
   },
   "outputs": [
    {
     "name": "stdout",
     "output_type": "stream",
     "text": [
      "<class 'pandas.core.frame.DataFrame'>\n",
      "RangeIndex: 5770 entries, 0 to 5769\n",
      "Data columns (total 9 columns):\n",
      " #   Column      Non-Null Count  Dtype \n",
      "---  ------      --------------  ----- \n",
      " 0   Year        5770 non-null   int64 \n",
      " 1   City        5770 non-null   object\n",
      " 2   Sport       5770 non-null   object\n",
      " 3   Discipline  5770 non-null   object\n",
      " 4   Athlete     5770 non-null   object\n",
      " 5   Country     5770 non-null   object\n",
      " 6   Gender      5770 non-null   object\n",
      " 7   Event       5770 non-null   object\n",
      " 8   Medal       5770 non-null   object\n",
      "dtypes: int64(1), object(8)\n",
      "memory usage: 405.8+ KB\n"
     ]
    }
   ],
   "source": [
    "## WINTER\n",
    "## what exactly do we have: columns, datatypes, etc.\n",
    "oly_w.info()"
   ]
  },
  {
   "cell_type": "markdown",
   "metadata": {
    "slideshow": {
     "slide_type": "slide"
    }
   },
   "source": [
    "### ```Series``` v. ```DataFrame```\n",
    "\n",
    "A single 'column' of data in a ```dataframe``` is known as a series.\n",
    "\n",
    "A ```series``` is like a Python ```list```."
   ]
  },
  {
   "cell_type": "markdown",
   "metadata": {
    "slideshow": {
     "slide_type": "slide"
    }
   },
   "source": [
    "### ```Series``` v. ```DataFrame```\n",
    "\n",
    "#### Why does this matter?\n",
    "\n",
    "#### Different methods work on ```series``` and ```dataframes```."
   ]
  },
  {
   "cell_type": "code",
   "execution_count": 6,
   "metadata": {
    "slideshow": {
     "slide_type": "slide"
    }
   },
   "outputs": [
    {
     "data": {
      "text/plain": [
       "0       1924\n",
       "1       1924\n",
       "2       1924\n",
       "3       1924\n",
       "4       1924\n",
       "        ... \n",
       "5765    2014\n",
       "5766    2014\n",
       "5767    2014\n",
       "5768    2014\n",
       "5769    2014\n",
       "Name: Year, Length: 5770, dtype: int64"
      ]
     },
     "execution_count": 6,
     "metadata": {},
     "output_type": "execute_result"
    }
   ],
   "source": [
    "## METHOD 1 to return a sereies\n",
    "## df.column_name also returns a Pandas Series\n",
    "oly_w.Year"
   ]
  },
  {
   "cell_type": "code",
   "execution_count": 7,
   "metadata": {
    "slideshow": {
     "slide_type": "slide"
    }
   },
   "outputs": [
    {
     "data": {
      "text/plain": [
       "0       1924\n",
       "1       1924\n",
       "2       1924\n",
       "3       1924\n",
       "4       1924\n",
       "        ... \n",
       "5765    2014\n",
       "5766    2014\n",
       "5767    2014\n",
       "5768    2014\n",
       "5769    2014\n",
       "Name: Year, Length: 5770, dtype: int64"
      ]
     },
     "execution_count": 7,
     "metadata": {},
     "output_type": "execute_result"
    }
   ],
   "source": [
    "## METHOD 2 to return a sereies\n",
    "## df['ColumnName'] also returns a Pandas Series\n",
    "oly_w[\"Year\"]"
   ]
  },
  {
   "cell_type": "markdown",
   "metadata": {
    "slideshow": {
     "slide_type": "slide"
    }
   },
   "source": [
    "### Method 2 is preferred because you will often work with data with multiword column headers:\n",
    "\n",
    "This will break:\n",
    "\n",
    "```df.Multi Word Header```\n",
    "\n",
    "This will NOT break:\n",
    "\n",
    "```df[\"Multi Word Header\"]```\n"
   ]
  },
  {
   "cell_type": "markdown",
   "metadata": {
    "slideshow": {
     "slide_type": "slide"
    }
   },
   "source": [
    "### If you pass multiple column headers, it returns dataframe with only those columns\n",
    "\n",
    "####  ```df[[\"Column 1\", \"Column 2\"]]```"
   ]
  },
  {
   "cell_type": "code",
   "execution_count": 8,
   "metadata": {
    "slideshow": {
     "slide_type": "slide"
    }
   },
   "outputs": [
    {
     "data": {
      "text/html": [
       "<div>\n",
       "<style scoped>\n",
       "    .dataframe tbody tr th:only-of-type {\n",
       "        vertical-align: middle;\n",
       "    }\n",
       "\n",
       "    .dataframe tbody tr th {\n",
       "        vertical-align: top;\n",
       "    }\n",
       "\n",
       "    .dataframe thead th {\n",
       "        text-align: right;\n",
       "    }\n",
       "</style>\n",
       "<table border=\"1\" class=\"dataframe\">\n",
       "  <thead>\n",
       "    <tr style=\"text-align: right;\">\n",
       "      <th></th>\n",
       "      <th>Year</th>\n",
       "      <th>City</th>\n",
       "    </tr>\n",
       "  </thead>\n",
       "  <tbody>\n",
       "    <tr>\n",
       "      <th>2308</th>\n",
       "      <td>1988</td>\n",
       "      <td>Calgary</td>\n",
       "    </tr>\n",
       "    <tr>\n",
       "      <th>4282</th>\n",
       "      <td>2006</td>\n",
       "      <td>Turin</td>\n",
       "    </tr>\n",
       "    <tr>\n",
       "      <th>4306</th>\n",
       "      <td>2006</td>\n",
       "      <td>Turin</td>\n",
       "    </tr>\n",
       "    <tr>\n",
       "      <th>2045</th>\n",
       "      <td>1984</td>\n",
       "      <td>Sarajevo</td>\n",
       "    </tr>\n",
       "    <tr>\n",
       "      <th>464</th>\n",
       "      <td>1948</td>\n",
       "      <td>St.Moritz</td>\n",
       "    </tr>\n",
       "    <tr>\n",
       "      <th>710</th>\n",
       "      <td>1956</td>\n",
       "      <td>Cortina d'Ampezzo</td>\n",
       "    </tr>\n",
       "    <tr>\n",
       "      <th>3659</th>\n",
       "      <td>2002</td>\n",
       "      <td>Salt Lake City</td>\n",
       "    </tr>\n",
       "    <tr>\n",
       "      <th>4229</th>\n",
       "      <td>2006</td>\n",
       "      <td>Turin</td>\n",
       "    </tr>\n",
       "    <tr>\n",
       "      <th>691</th>\n",
       "      <td>1952</td>\n",
       "      <td>Oslo</td>\n",
       "    </tr>\n",
       "    <tr>\n",
       "      <th>1055</th>\n",
       "      <td>1964</td>\n",
       "      <td>Innsbruck</td>\n",
       "    </tr>\n",
       "  </tbody>\n",
       "</table>\n",
       "</div>"
      ],
      "text/plain": [
       "      Year               City\n",
       "2308  1988            Calgary\n",
       "4282  2006              Turin\n",
       "4306  2006              Turin\n",
       "2045  1984           Sarajevo\n",
       "464   1948          St.Moritz\n",
       "710   1956  Cortina d'Ampezzo\n",
       "3659  2002     Salt Lake City\n",
       "4229  2006              Turin\n",
       "691   1952               Oslo\n",
       "1055  1964          Innsbruck"
      ]
     },
     "execution_count": 8,
     "metadata": {},
     "output_type": "execute_result"
    }
   ],
   "source": [
    "## df[[\"Column1\", \"Column2\"]] returns a dataframe\n",
    "df = oly_w[[\"Year\", \"City\"]]\n",
    "df.sample(10)"
   ]
  },
  {
   "cell_type": "markdown",
   "metadata": {
    "slideshow": {
     "slide_type": "slide"
    }
   },
   "source": [
    "## Sorting\n",
    "\n",
    "```df_name.sort_values(by=[\"Value 1\", \"Value 2\"], ascending = True)``` for A-Z or smaller numbers to bigger numbers\n",
    "\n",
    "```ascending = False``` for Z-A or bigger to smaller numbers.\n"
   ]
  },
  {
   "cell_type": "code",
   "execution_count": 9,
   "metadata": {
    "slideshow": {
     "slide_type": "slide"
    }
   },
   "outputs": [
    {
     "data": {
      "text/html": [
       "<div>\n",
       "<style scoped>\n",
       "    .dataframe tbody tr th:only-of-type {\n",
       "        vertical-align: middle;\n",
       "    }\n",
       "\n",
       "    .dataframe tbody tr th {\n",
       "        vertical-align: top;\n",
       "    }\n",
       "\n",
       "    .dataframe thead th {\n",
       "        text-align: right;\n",
       "    }\n",
       "</style>\n",
       "<table border=\"1\" class=\"dataframe\">\n",
       "  <thead>\n",
       "    <tr style=\"text-align: right;\">\n",
       "      <th></th>\n",
       "      <th>Year</th>\n",
       "      <th>City</th>\n",
       "    </tr>\n",
       "  </thead>\n",
       "  <tbody>\n",
       "    <tr>\n",
       "      <th>2502</th>\n",
       "      <td>1992</td>\n",
       "      <td>Albertville</td>\n",
       "    </tr>\n",
       "    <tr>\n",
       "      <th>2503</th>\n",
       "      <td>1992</td>\n",
       "      <td>Albertville</td>\n",
       "    </tr>\n",
       "    <tr>\n",
       "      <th>2504</th>\n",
       "      <td>1992</td>\n",
       "      <td>Albertville</td>\n",
       "    </tr>\n",
       "    <tr>\n",
       "      <th>2505</th>\n",
       "      <td>1992</td>\n",
       "      <td>Albertville</td>\n",
       "    </tr>\n",
       "    <tr>\n",
       "      <th>2506</th>\n",
       "      <td>1992</td>\n",
       "      <td>Albertville</td>\n",
       "    </tr>\n",
       "    <tr>\n",
       "      <th>...</th>\n",
       "      <td>...</td>\n",
       "      <td>...</td>\n",
       "    </tr>\n",
       "    <tr>\n",
       "      <th>5153</th>\n",
       "      <td>2010</td>\n",
       "      <td>Vancouver</td>\n",
       "    </tr>\n",
       "    <tr>\n",
       "      <th>5154</th>\n",
       "      <td>2010</td>\n",
       "      <td>Vancouver</td>\n",
       "    </tr>\n",
       "    <tr>\n",
       "      <th>5155</th>\n",
       "      <td>2010</td>\n",
       "      <td>Vancouver</td>\n",
       "    </tr>\n",
       "    <tr>\n",
       "      <th>5156</th>\n",
       "      <td>2010</td>\n",
       "      <td>Vancouver</td>\n",
       "    </tr>\n",
       "    <tr>\n",
       "      <th>5157</th>\n",
       "      <td>2010</td>\n",
       "      <td>Vancouver</td>\n",
       "    </tr>\n",
       "  </tbody>\n",
       "</table>\n",
       "<p>5770 rows × 2 columns</p>\n",
       "</div>"
      ],
      "text/plain": [
       "      Year         City\n",
       "2502  1992  Albertville\n",
       "2503  1992  Albertville\n",
       "2504  1992  Albertville\n",
       "2505  1992  Albertville\n",
       "2506  1992  Albertville\n",
       "...    ...          ...\n",
       "5153  2010    Vancouver\n",
       "5154  2010    Vancouver\n",
       "5155  2010    Vancouver\n",
       "5156  2010    Vancouver\n",
       "5157  2010    Vancouver\n",
       "\n",
       "[5770 rows x 2 columns]"
      ]
     },
     "execution_count": 9,
     "metadata": {},
     "output_type": "execute_result"
    }
   ],
   "source": [
    "## Sort by values (City and Year)\n",
    "\n",
    "city_yr_sort = df.sort_values(by=[\"City\", \"Year\"], ascending=True)\n",
    "city_yr_sort"
   ]
  },
  {
   "cell_type": "code",
   "execution_count": 10,
   "metadata": {
    "slideshow": {
     "slide_type": "slide"
    }
   },
   "outputs": [
    {
     "data": {
      "text/html": [
       "<div>\n",
       "<style scoped>\n",
       "    .dataframe tbody tr th:only-of-type {\n",
       "        vertical-align: middle;\n",
       "    }\n",
       "\n",
       "    .dataframe tbody tr th {\n",
       "        vertical-align: top;\n",
       "    }\n",
       "\n",
       "    .dataframe thead th {\n",
       "        text-align: right;\n",
       "    }\n",
       "</style>\n",
       "<table border=\"1\" class=\"dataframe\">\n",
       "  <thead>\n",
       "    <tr style=\"text-align: right;\">\n",
       "      <th></th>\n",
       "      <th>Year</th>\n",
       "      <th>City</th>\n",
       "    </tr>\n",
       "  </thead>\n",
       "  <tbody>\n",
       "    <tr>\n",
       "      <th>4629</th>\n",
       "      <td>2010</td>\n",
       "      <td>Vancouver</td>\n",
       "    </tr>\n",
       "    <tr>\n",
       "      <th>4630</th>\n",
       "      <td>2010</td>\n",
       "      <td>Vancouver</td>\n",
       "    </tr>\n",
       "    <tr>\n",
       "      <th>4631</th>\n",
       "      <td>2010</td>\n",
       "      <td>Vancouver</td>\n",
       "    </tr>\n",
       "    <tr>\n",
       "      <th>4632</th>\n",
       "      <td>2010</td>\n",
       "      <td>Vancouver</td>\n",
       "    </tr>\n",
       "    <tr>\n",
       "      <th>4633</th>\n",
       "      <td>2010</td>\n",
       "      <td>Vancouver</td>\n",
       "    </tr>\n",
       "    <tr>\n",
       "      <th>...</th>\n",
       "      <td>...</td>\n",
       "      <td>...</td>\n",
       "    </tr>\n",
       "    <tr>\n",
       "      <th>2822</th>\n",
       "      <td>1992</td>\n",
       "      <td>Albertville</td>\n",
       "    </tr>\n",
       "    <tr>\n",
       "      <th>2823</th>\n",
       "      <td>1992</td>\n",
       "      <td>Albertville</td>\n",
       "    </tr>\n",
       "    <tr>\n",
       "      <th>2824</th>\n",
       "      <td>1992</td>\n",
       "      <td>Albertville</td>\n",
       "    </tr>\n",
       "    <tr>\n",
       "      <th>2825</th>\n",
       "      <td>1992</td>\n",
       "      <td>Albertville</td>\n",
       "    </tr>\n",
       "    <tr>\n",
       "      <th>2826</th>\n",
       "      <td>1992</td>\n",
       "      <td>Albertville</td>\n",
       "    </tr>\n",
       "  </tbody>\n",
       "</table>\n",
       "<p>5770 rows × 2 columns</p>\n",
       "</div>"
      ],
      "text/plain": [
       "      Year         City\n",
       "4629  2010    Vancouver\n",
       "4630  2010    Vancouver\n",
       "4631  2010    Vancouver\n",
       "4632  2010    Vancouver\n",
       "4633  2010    Vancouver\n",
       "...    ...          ...\n",
       "2822  1992  Albertville\n",
       "2823  1992  Albertville\n",
       "2824  1992  Albertville\n",
       "2825  1992  Albertville\n",
       "2826  1992  Albertville\n",
       "\n",
       "[5770 rows x 2 columns]"
      ]
     },
     "execution_count": 10,
     "metadata": {},
     "output_type": "execute_result"
    }
   ],
   "source": [
    "## sort by city and year but descending\n",
    "city_yr_sort = df.sort_values(by=[\"City\",\"Year\"], ascending=False)\n",
    "city_yr_sort"
   ]
  },
  {
   "cell_type": "markdown",
   "metadata": {
    "id": "ci_-fXr3Qant",
    "slideshow": {
     "slide_type": "slide"
    }
   },
   "source": [
    "## Should Winter and Summer data remain separate?\n"
   ]
  },
  {
   "cell_type": "markdown",
   "metadata": {
    "slideshow": {
     "slide_type": "slide"
    }
   },
   "source": [
    "### What if we want to know total gold medals for any country?\n",
    "\n",
    "### But if we combine them, how to we easily distinguish between summer and winter?"
   ]
  },
  {
   "cell_type": "markdown",
   "metadata": {
    "id": "-o1rbsaWVNZ5",
    "slideshow": {
     "slide_type": "slide"
    }
   },
   "source": [
    "### Creating a new column with a default value"
   ]
  },
  {
   "cell_type": "code",
   "execution_count": 11,
   "metadata": {
    "colab": {
     "base_uri": "https://localhost:8080/",
     "height": 195
    },
    "executionInfo": {
     "elapsed": 689,
     "status": "ok",
     "timestamp": 1617984709670,
     "user": {
      "displayName": "Sandeep Junnarkar",
      "photoUrl": "",
      "userId": "15658885848901522782"
     },
     "user_tz": 240
    },
    "id": "iqjWlqJwQant",
    "outputId": "2fe8dbf8-1886-4dca-c15a-4015f54602ae",
    "slideshow": {
     "slide_type": "slide"
    }
   },
   "outputs": [
    {
     "data": {
      "text/html": [
       "<div>\n",
       "<style scoped>\n",
       "    .dataframe tbody tr th:only-of-type {\n",
       "        vertical-align: middle;\n",
       "    }\n",
       "\n",
       "    .dataframe tbody tr th {\n",
       "        vertical-align: top;\n",
       "    }\n",
       "\n",
       "    .dataframe thead th {\n",
       "        text-align: right;\n",
       "    }\n",
       "</style>\n",
       "<table border=\"1\" class=\"dataframe\">\n",
       "  <thead>\n",
       "    <tr style=\"text-align: right;\">\n",
       "      <th></th>\n",
       "      <th>Year</th>\n",
       "      <th>City</th>\n",
       "      <th>Sport</th>\n",
       "      <th>Discipline</th>\n",
       "      <th>Athlete</th>\n",
       "      <th>Country</th>\n",
       "      <th>Gender</th>\n",
       "      <th>Event</th>\n",
       "      <th>Medal</th>\n",
       "      <th>Season</th>\n",
       "    </tr>\n",
       "  </thead>\n",
       "  <tbody>\n",
       "    <tr>\n",
       "      <th>0</th>\n",
       "      <td>1896</td>\n",
       "      <td>Athens</td>\n",
       "      <td>Aquatics</td>\n",
       "      <td>Swimming</td>\n",
       "      <td>HAJOS, Alfred</td>\n",
       "      <td>HUN</td>\n",
       "      <td>Men</td>\n",
       "      <td>100M Freestyle</td>\n",
       "      <td>Gold</td>\n",
       "      <td>Summer</td>\n",
       "    </tr>\n",
       "    <tr>\n",
       "      <th>1</th>\n",
       "      <td>1896</td>\n",
       "      <td>Athens</td>\n",
       "      <td>Aquatics</td>\n",
       "      <td>Swimming</td>\n",
       "      <td>HERSCHMANN, Otto</td>\n",
       "      <td>AUT</td>\n",
       "      <td>Men</td>\n",
       "      <td>100M Freestyle</td>\n",
       "      <td>Silver</td>\n",
       "      <td>Summer</td>\n",
       "    </tr>\n",
       "    <tr>\n",
       "      <th>2</th>\n",
       "      <td>1896</td>\n",
       "      <td>Athens</td>\n",
       "      <td>Aquatics</td>\n",
       "      <td>Swimming</td>\n",
       "      <td>DRIVAS, Dimitrios</td>\n",
       "      <td>GRE</td>\n",
       "      <td>Men</td>\n",
       "      <td>100M Freestyle For Sailors</td>\n",
       "      <td>Bronze</td>\n",
       "      <td>Summer</td>\n",
       "    </tr>\n",
       "    <tr>\n",
       "      <th>3</th>\n",
       "      <td>1896</td>\n",
       "      <td>Athens</td>\n",
       "      <td>Aquatics</td>\n",
       "      <td>Swimming</td>\n",
       "      <td>MALOKINIS, Ioannis</td>\n",
       "      <td>GRE</td>\n",
       "      <td>Men</td>\n",
       "      <td>100M Freestyle For Sailors</td>\n",
       "      <td>Gold</td>\n",
       "      <td>Summer</td>\n",
       "    </tr>\n",
       "    <tr>\n",
       "      <th>4</th>\n",
       "      <td>1896</td>\n",
       "      <td>Athens</td>\n",
       "      <td>Aquatics</td>\n",
       "      <td>Swimming</td>\n",
       "      <td>CHASAPIS, Spiridon</td>\n",
       "      <td>GRE</td>\n",
       "      <td>Men</td>\n",
       "      <td>100M Freestyle For Sailors</td>\n",
       "      <td>Silver</td>\n",
       "      <td>Summer</td>\n",
       "    </tr>\n",
       "  </tbody>\n",
       "</table>\n",
       "</div>"
      ],
      "text/plain": [
       "   Year    City     Sport Discipline             Athlete Country Gender  \\\n",
       "0  1896  Athens  Aquatics   Swimming       HAJOS, Alfred     HUN    Men   \n",
       "1  1896  Athens  Aquatics   Swimming    HERSCHMANN, Otto     AUT    Men   \n",
       "2  1896  Athens  Aquatics   Swimming   DRIVAS, Dimitrios     GRE    Men   \n",
       "3  1896  Athens  Aquatics   Swimming  MALOKINIS, Ioannis     GRE    Men   \n",
       "4  1896  Athens  Aquatics   Swimming  CHASAPIS, Spiridon     GRE    Men   \n",
       "\n",
       "                        Event   Medal  Season  \n",
       "0              100M Freestyle    Gold  Summer  \n",
       "1              100M Freestyle  Silver  Summer  \n",
       "2  100M Freestyle For Sailors  Bronze  Summer  \n",
       "3  100M Freestyle For Sailors    Gold  Summer  \n",
       "4  100M Freestyle For Sailors  Silver  Summer  "
      ]
     },
     "execution_count": 11,
     "metadata": {},
     "output_type": "execute_result"
    }
   ],
   "source": [
    "## In oly_s, add \"Season\" column with the value \"Summer\"\n",
    "oly_s[\"Season\"] = \"Summer\"\n",
    "oly_s.head()"
   ]
  },
  {
   "cell_type": "code",
   "execution_count": 12,
   "metadata": {
    "colab": {
     "base_uri": "https://localhost:8080/",
     "height": 195
    },
    "executionInfo": {
     "elapsed": 657,
     "status": "ok",
     "timestamp": 1617984712103,
     "user": {
      "displayName": "Sandeep Junnarkar",
      "photoUrl": "",
      "userId": "15658885848901522782"
     },
     "user_tz": 240
    },
    "id": "UcGdH1GRQant",
    "outputId": "73950034-0358-4bee-ef01-9428b9a54d9f",
    "slideshow": {
     "slide_type": "slide"
    }
   },
   "outputs": [
    {
     "data": {
      "text/html": [
       "<div>\n",
       "<style scoped>\n",
       "    .dataframe tbody tr th:only-of-type {\n",
       "        vertical-align: middle;\n",
       "    }\n",
       "\n",
       "    .dataframe tbody tr th {\n",
       "        vertical-align: top;\n",
       "    }\n",
       "\n",
       "    .dataframe thead th {\n",
       "        text-align: right;\n",
       "    }\n",
       "</style>\n",
       "<table border=\"1\" class=\"dataframe\">\n",
       "  <thead>\n",
       "    <tr style=\"text-align: right;\">\n",
       "      <th></th>\n",
       "      <th>Year</th>\n",
       "      <th>City</th>\n",
       "      <th>Sport</th>\n",
       "      <th>Discipline</th>\n",
       "      <th>Athlete</th>\n",
       "      <th>Country</th>\n",
       "      <th>Gender</th>\n",
       "      <th>Event</th>\n",
       "      <th>Medal</th>\n",
       "      <th>Season</th>\n",
       "    </tr>\n",
       "  </thead>\n",
       "  <tbody>\n",
       "    <tr>\n",
       "      <th>0</th>\n",
       "      <td>1924</td>\n",
       "      <td>Chamonix</td>\n",
       "      <td>Biathlon</td>\n",
       "      <td>Biathlon</td>\n",
       "      <td>BERTHET, G.</td>\n",
       "      <td>FRA</td>\n",
       "      <td>Men</td>\n",
       "      <td>Military Patrol</td>\n",
       "      <td>Bronze</td>\n",
       "      <td>Winter</td>\n",
       "    </tr>\n",
       "    <tr>\n",
       "      <th>1</th>\n",
       "      <td>1924</td>\n",
       "      <td>Chamonix</td>\n",
       "      <td>Biathlon</td>\n",
       "      <td>Biathlon</td>\n",
       "      <td>MANDRILLON, C.</td>\n",
       "      <td>FRA</td>\n",
       "      <td>Men</td>\n",
       "      <td>Military Patrol</td>\n",
       "      <td>Bronze</td>\n",
       "      <td>Winter</td>\n",
       "    </tr>\n",
       "    <tr>\n",
       "      <th>2</th>\n",
       "      <td>1924</td>\n",
       "      <td>Chamonix</td>\n",
       "      <td>Biathlon</td>\n",
       "      <td>Biathlon</td>\n",
       "      <td>MANDRILLON, Maurice</td>\n",
       "      <td>FRA</td>\n",
       "      <td>Men</td>\n",
       "      <td>Military Patrol</td>\n",
       "      <td>Bronze</td>\n",
       "      <td>Winter</td>\n",
       "    </tr>\n",
       "    <tr>\n",
       "      <th>3</th>\n",
       "      <td>1924</td>\n",
       "      <td>Chamonix</td>\n",
       "      <td>Biathlon</td>\n",
       "      <td>Biathlon</td>\n",
       "      <td>VANDELLE, André</td>\n",
       "      <td>FRA</td>\n",
       "      <td>Men</td>\n",
       "      <td>Military Patrol</td>\n",
       "      <td>Bronze</td>\n",
       "      <td>Winter</td>\n",
       "    </tr>\n",
       "    <tr>\n",
       "      <th>4</th>\n",
       "      <td>1924</td>\n",
       "      <td>Chamonix</td>\n",
       "      <td>Biathlon</td>\n",
       "      <td>Biathlon</td>\n",
       "      <td>AUFDENBLATTEN, Adolf</td>\n",
       "      <td>SUI</td>\n",
       "      <td>Men</td>\n",
       "      <td>Military Patrol</td>\n",
       "      <td>Gold</td>\n",
       "      <td>Winter</td>\n",
       "    </tr>\n",
       "    <tr>\n",
       "      <th>...</th>\n",
       "      <td>...</td>\n",
       "      <td>...</td>\n",
       "      <td>...</td>\n",
       "      <td>...</td>\n",
       "      <td>...</td>\n",
       "      <td>...</td>\n",
       "      <td>...</td>\n",
       "      <td>...</td>\n",
       "      <td>...</td>\n",
       "      <td>...</td>\n",
       "    </tr>\n",
       "    <tr>\n",
       "      <th>5765</th>\n",
       "      <td>2014</td>\n",
       "      <td>Sochi</td>\n",
       "      <td>Skiing</td>\n",
       "      <td>Snowboard</td>\n",
       "      <td>JONES, Jenny</td>\n",
       "      <td>GBR</td>\n",
       "      <td>Women</td>\n",
       "      <td>Slopestyle</td>\n",
       "      <td>Bronze</td>\n",
       "      <td>Winter</td>\n",
       "    </tr>\n",
       "    <tr>\n",
       "      <th>5766</th>\n",
       "      <td>2014</td>\n",
       "      <td>Sochi</td>\n",
       "      <td>Skiing</td>\n",
       "      <td>Snowboard</td>\n",
       "      <td>ANDERSON, Jamie</td>\n",
       "      <td>USA</td>\n",
       "      <td>Women</td>\n",
       "      <td>Slopestyle</td>\n",
       "      <td>Gold</td>\n",
       "      <td>Winter</td>\n",
       "    </tr>\n",
       "    <tr>\n",
       "      <th>5767</th>\n",
       "      <td>2014</td>\n",
       "      <td>Sochi</td>\n",
       "      <td>Skiing</td>\n",
       "      <td>Snowboard</td>\n",
       "      <td>MALTAIS, Dominique</td>\n",
       "      <td>CAN</td>\n",
       "      <td>Women</td>\n",
       "      <td>Snowboard Cross</td>\n",
       "      <td>Silver</td>\n",
       "      <td>Winter</td>\n",
       "    </tr>\n",
       "    <tr>\n",
       "      <th>5768</th>\n",
       "      <td>2014</td>\n",
       "      <td>Sochi</td>\n",
       "      <td>Skiing</td>\n",
       "      <td>Snowboard</td>\n",
       "      <td>SAMKOVA, Eva</td>\n",
       "      <td>CZE</td>\n",
       "      <td>Women</td>\n",
       "      <td>Snowboard Cross</td>\n",
       "      <td>Gold</td>\n",
       "      <td>Winter</td>\n",
       "    </tr>\n",
       "    <tr>\n",
       "      <th>5769</th>\n",
       "      <td>2014</td>\n",
       "      <td>Sochi</td>\n",
       "      <td>Skiing</td>\n",
       "      <td>Snowboard</td>\n",
       "      <td>TRESPEUCH, Chloe</td>\n",
       "      <td>FRA</td>\n",
       "      <td>Women</td>\n",
       "      <td>Snowboard Cross</td>\n",
       "      <td>Bronze</td>\n",
       "      <td>Winter</td>\n",
       "    </tr>\n",
       "  </tbody>\n",
       "</table>\n",
       "<p>5770 rows × 10 columns</p>\n",
       "</div>"
      ],
      "text/plain": [
       "      Year      City     Sport Discipline               Athlete Country  \\\n",
       "0     1924  Chamonix  Biathlon   Biathlon           BERTHET, G.     FRA   \n",
       "1     1924  Chamonix  Biathlon   Biathlon        MANDRILLON, C.     FRA   \n",
       "2     1924  Chamonix  Biathlon   Biathlon   MANDRILLON, Maurice     FRA   \n",
       "3     1924  Chamonix  Biathlon   Biathlon       VANDELLE, André     FRA   \n",
       "4     1924  Chamonix  Biathlon   Biathlon  AUFDENBLATTEN, Adolf     SUI   \n",
       "...    ...       ...       ...        ...                   ...     ...   \n",
       "5765  2014     Sochi    Skiing  Snowboard          JONES, Jenny     GBR   \n",
       "5766  2014     Sochi    Skiing  Snowboard       ANDERSON, Jamie     USA   \n",
       "5767  2014     Sochi    Skiing  Snowboard    MALTAIS, Dominique     CAN   \n",
       "5768  2014     Sochi    Skiing  Snowboard          SAMKOVA, Eva     CZE   \n",
       "5769  2014     Sochi    Skiing  Snowboard      TRESPEUCH, Chloe     FRA   \n",
       "\n",
       "     Gender            Event   Medal  Season  \n",
       "0       Men  Military Patrol  Bronze  Winter  \n",
       "1       Men  Military Patrol  Bronze  Winter  \n",
       "2       Men  Military Patrol  Bronze  Winter  \n",
       "3       Men  Military Patrol  Bronze  Winter  \n",
       "4       Men  Military Patrol    Gold  Winter  \n",
       "...     ...              ...     ...     ...  \n",
       "5765  Women       Slopestyle  Bronze  Winter  \n",
       "5766  Women       Slopestyle    Gold  Winter  \n",
       "5767  Women  Snowboard Cross  Silver  Winter  \n",
       "5768  Women  Snowboard Cross    Gold  Winter  \n",
       "5769  Women  Snowboard Cross  Bronze  Winter  \n",
       "\n",
       "[5770 rows x 10 columns]"
      ]
     },
     "execution_count": 12,
     "metadata": {},
     "output_type": "execute_result"
    }
   ],
   "source": [
    "## In oly_w, add \"Season\" column with the value \"Winter\"\n",
    "oly_w[\"Season\"] = \"Winter\"\n",
    "oly_w"
   ]
  },
  {
   "cell_type": "code",
   "execution_count": 41,
   "metadata": {
    "slideshow": {
     "slide_type": "slide"
    }
   },
   "outputs": [
    {
     "data": {
      "text/plain": [
       "True"
      ]
     },
     "execution_count": 41,
     "metadata": {},
     "output_type": "execute_result"
    }
   ],
   "source": [
    "## are the two column headers identical?\n",
    "list(oly_w.columns) == list(oly_s.columns)"
   ]
  },
  {
   "cell_type": "code",
   "execution_count": 42,
   "metadata": {
    "id": "CpzKchqtQanu",
    "slideshow": {
     "slide_type": "slide"
    }
   },
   "outputs": [
    {
     "data": {
      "text/html": [
       "<div>\n",
       "<style scoped>\n",
       "    .dataframe tbody tr th:only-of-type {\n",
       "        vertical-align: middle;\n",
       "    }\n",
       "\n",
       "    .dataframe tbody tr th {\n",
       "        vertical-align: top;\n",
       "    }\n",
       "\n",
       "    .dataframe thead th {\n",
       "        text-align: right;\n",
       "    }\n",
       "</style>\n",
       "<table border=\"1\" class=\"dataframe\">\n",
       "  <thead>\n",
       "    <tr style=\"text-align: right;\">\n",
       "      <th></th>\n",
       "      <th>Athlete</th>\n",
       "      <th>City</th>\n",
       "      <th>Country</th>\n",
       "      <th>Discipline</th>\n",
       "      <th>Event</th>\n",
       "      <th>Gender</th>\n",
       "      <th>Medal</th>\n",
       "      <th>Season</th>\n",
       "      <th>Sport</th>\n",
       "      <th>Year</th>\n",
       "    </tr>\n",
       "  </thead>\n",
       "  <tbody>\n",
       "    <tr>\n",
       "      <th>0</th>\n",
       "      <td>HAJOS, Alfred</td>\n",
       "      <td>Athens</td>\n",
       "      <td>HUN</td>\n",
       "      <td>Swimming</td>\n",
       "      <td>100M Freestyle</td>\n",
       "      <td>Men</td>\n",
       "      <td>Gold</td>\n",
       "      <td>Summer</td>\n",
       "      <td>Aquatics</td>\n",
       "      <td>1896</td>\n",
       "    </tr>\n",
       "    <tr>\n",
       "      <th>1</th>\n",
       "      <td>HERSCHMANN, Otto</td>\n",
       "      <td>Athens</td>\n",
       "      <td>AUT</td>\n",
       "      <td>Swimming</td>\n",
       "      <td>100M Freestyle</td>\n",
       "      <td>Men</td>\n",
       "      <td>Silver</td>\n",
       "      <td>Summer</td>\n",
       "      <td>Aquatics</td>\n",
       "      <td>1896</td>\n",
       "    </tr>\n",
       "    <tr>\n",
       "      <th>2</th>\n",
       "      <td>DRIVAS, Dimitrios</td>\n",
       "      <td>Athens</td>\n",
       "      <td>GRE</td>\n",
       "      <td>Swimming</td>\n",
       "      <td>100M Freestyle For Sailors</td>\n",
       "      <td>Men</td>\n",
       "      <td>Bronze</td>\n",
       "      <td>Summer</td>\n",
       "      <td>Aquatics</td>\n",
       "      <td>1896</td>\n",
       "    </tr>\n",
       "    <tr>\n",
       "      <th>3</th>\n",
       "      <td>MALOKINIS, Ioannis</td>\n",
       "      <td>Athens</td>\n",
       "      <td>GRE</td>\n",
       "      <td>Swimming</td>\n",
       "      <td>100M Freestyle For Sailors</td>\n",
       "      <td>Men</td>\n",
       "      <td>Gold</td>\n",
       "      <td>Summer</td>\n",
       "      <td>Aquatics</td>\n",
       "      <td>1896</td>\n",
       "    </tr>\n",
       "    <tr>\n",
       "      <th>4</th>\n",
       "      <td>CHASAPIS, Spiridon</td>\n",
       "      <td>Athens</td>\n",
       "      <td>GRE</td>\n",
       "      <td>Swimming</td>\n",
       "      <td>100M Freestyle For Sailors</td>\n",
       "      <td>Men</td>\n",
       "      <td>Silver</td>\n",
       "      <td>Summer</td>\n",
       "      <td>Aquatics</td>\n",
       "      <td>1896</td>\n",
       "    </tr>\n",
       "    <tr>\n",
       "      <th>...</th>\n",
       "      <td>...</td>\n",
       "      <td>...</td>\n",
       "      <td>...</td>\n",
       "      <td>...</td>\n",
       "      <td>...</td>\n",
       "      <td>...</td>\n",
       "      <td>...</td>\n",
       "      <td>...</td>\n",
       "      <td>...</td>\n",
       "      <td>...</td>\n",
       "    </tr>\n",
       "    <tr>\n",
       "      <th>5765</th>\n",
       "      <td>JONES, Jenny</td>\n",
       "      <td>Sochi</td>\n",
       "      <td>GBR</td>\n",
       "      <td>Snowboard</td>\n",
       "      <td>Slopestyle</td>\n",
       "      <td>Women</td>\n",
       "      <td>Bronze</td>\n",
       "      <td>Winter</td>\n",
       "      <td>Skiing</td>\n",
       "      <td>2014</td>\n",
       "    </tr>\n",
       "    <tr>\n",
       "      <th>5766</th>\n",
       "      <td>ANDERSON, Jamie</td>\n",
       "      <td>Sochi</td>\n",
       "      <td>USA</td>\n",
       "      <td>Snowboard</td>\n",
       "      <td>Slopestyle</td>\n",
       "      <td>Women</td>\n",
       "      <td>Gold</td>\n",
       "      <td>Winter</td>\n",
       "      <td>Skiing</td>\n",
       "      <td>2014</td>\n",
       "    </tr>\n",
       "    <tr>\n",
       "      <th>5767</th>\n",
       "      <td>MALTAIS, Dominique</td>\n",
       "      <td>Sochi</td>\n",
       "      <td>CAN</td>\n",
       "      <td>Snowboard</td>\n",
       "      <td>Snowboard Cross</td>\n",
       "      <td>Women</td>\n",
       "      <td>Silver</td>\n",
       "      <td>Winter</td>\n",
       "      <td>Skiing</td>\n",
       "      <td>2014</td>\n",
       "    </tr>\n",
       "    <tr>\n",
       "      <th>5768</th>\n",
       "      <td>SAMKOVA, Eva</td>\n",
       "      <td>Sochi</td>\n",
       "      <td>CZE</td>\n",
       "      <td>Snowboard</td>\n",
       "      <td>Snowboard Cross</td>\n",
       "      <td>Women</td>\n",
       "      <td>Gold</td>\n",
       "      <td>Winter</td>\n",
       "      <td>Skiing</td>\n",
       "      <td>2014</td>\n",
       "    </tr>\n",
       "    <tr>\n",
       "      <th>5769</th>\n",
       "      <td>TRESPEUCH, Chloe</td>\n",
       "      <td>Sochi</td>\n",
       "      <td>FRA</td>\n",
       "      <td>Snowboard</td>\n",
       "      <td>Snowboard Cross</td>\n",
       "      <td>Women</td>\n",
       "      <td>Bronze</td>\n",
       "      <td>Winter</td>\n",
       "      <td>Skiing</td>\n",
       "      <td>2014</td>\n",
       "    </tr>\n",
       "  </tbody>\n",
       "</table>\n",
       "<p>36935 rows × 10 columns</p>\n",
       "</div>"
      ],
      "text/plain": [
       "                 Athlete    City Country Discipline  \\\n",
       "0          HAJOS, Alfred  Athens     HUN   Swimming   \n",
       "1       HERSCHMANN, Otto  Athens     AUT   Swimming   \n",
       "2      DRIVAS, Dimitrios  Athens     GRE   Swimming   \n",
       "3     MALOKINIS, Ioannis  Athens     GRE   Swimming   \n",
       "4     CHASAPIS, Spiridon  Athens     GRE   Swimming   \n",
       "...                  ...     ...     ...        ...   \n",
       "5765        JONES, Jenny   Sochi     GBR  Snowboard   \n",
       "5766     ANDERSON, Jamie   Sochi     USA  Snowboard   \n",
       "5767  MALTAIS, Dominique   Sochi     CAN  Snowboard   \n",
       "5768        SAMKOVA, Eva   Sochi     CZE  Snowboard   \n",
       "5769    TRESPEUCH, Chloe   Sochi     FRA  Snowboard   \n",
       "\n",
       "                           Event Gender   Medal  Season     Sport  Year  \n",
       "0                 100M Freestyle    Men    Gold  Summer  Aquatics  1896  \n",
       "1                 100M Freestyle    Men  Silver  Summer  Aquatics  1896  \n",
       "2     100M Freestyle For Sailors    Men  Bronze  Summer  Aquatics  1896  \n",
       "3     100M Freestyle For Sailors    Men    Gold  Summer  Aquatics  1896  \n",
       "4     100M Freestyle For Sailors    Men  Silver  Summer  Aquatics  1896  \n",
       "...                          ...    ...     ...     ...       ...   ...  \n",
       "5765                  Slopestyle  Women  Bronze  Winter    Skiing  2014  \n",
       "5766                  Slopestyle  Women    Gold  Winter    Skiing  2014  \n",
       "5767             Snowboard Cross  Women  Silver  Winter    Skiing  2014  \n",
       "5768             Snowboard Cross  Women    Gold  Winter    Skiing  2014  \n",
       "5769             Snowboard Cross  Women  Bronze  Winter    Skiing  2014  \n",
       "\n",
       "[36935 rows x 10 columns]"
      ]
     },
     "execution_count": 42,
     "metadata": {},
     "output_type": "execute_result"
    }
   ],
   "source": [
    "## join winter and summer dataframes together into a dataframe called oly\n",
    "join_list = [oly_s, oly_w]\n",
    "oly = pd.concat(join_list, sort = True)\n",
    "oly"
   ]
  },
  {
   "cell_type": "code",
   "execution_count": 51,
   "metadata": {
    "colab": {
     "base_uri": "https://localhost:8080/"
    },
    "executionInfo": {
     "elapsed": 146,
     "status": "ok",
     "timestamp": 1617984715651,
     "user": {
      "displayName": "Sandeep Junnarkar",
      "photoUrl": "",
      "userId": "15658885848901522782"
     },
     "user_tz": 240
    },
    "id": "kFO2VZokWpDg",
    "outputId": "2766fc63-af03-4e35-e0be-37cb5e8ae71e",
    "slideshow": {
     "slide_type": "slide"
    }
   },
   "outputs": [
    {
     "data": {
      "text/plain": [
       "(36935, 10)"
      ]
     },
     "execution_count": 51,
     "metadata": {},
     "output_type": "execute_result"
    }
   ],
   "source": [
    "### confirm that you have the correct number of rows after the join.\n",
    "### you can scroll up to count the number of entries in oly_w and oly_s. \n",
    "### The totals should be equal to the value generated below\n",
    "oly.shape"
   ]
  },
  {
   "cell_type": "code",
   "execution_count": 50,
   "metadata": {},
   "outputs": [
    {
     "data": {
      "text/plain": [
       "5770"
      ]
     },
     "execution_count": 50,
     "metadata": {},
     "output_type": "execute_result"
    }
   ],
   "source": [
    "oly_w.shape[0]"
   ]
  },
  {
   "cell_type": "code",
   "execution_count": 52,
   "metadata": {
    "slideshow": {
     "slide_type": "slide"
    }
   },
   "outputs": [
    {
     "data": {
      "text/plain": [
       "True"
      ]
     },
     "execution_count": 52,
     "metadata": {},
     "output_type": "execute_result"
    }
   ],
   "source": [
    "## confirm programmatically that the rows add up\n",
    "oly.shape[0] == oly_w.shape[0] + oly_s.shape[0]\n"
   ]
  },
  {
   "cell_type": "code",
   "execution_count": 53,
   "metadata": {
    "colab": {
     "base_uri": "https://localhost:8080/",
     "height": 461
    },
    "executionInfo": {
     "elapsed": 218,
     "status": "ok",
     "timestamp": 1617984717306,
     "user": {
      "displayName": "Sandeep Junnarkar",
      "photoUrl": "",
      "userId": "15658885848901522782"
     },
     "user_tz": 240
    },
    "id": "HEV9mpLnQanu",
    "outputId": "63e83f31-3ecf-4967-b40d-d2117edda30f",
    "slideshow": {
     "slide_type": "slide"
    }
   },
   "outputs": [
    {
     "data": {
      "text/html": [
       "<div>\n",
       "<style scoped>\n",
       "    .dataframe tbody tr th:only-of-type {\n",
       "        vertical-align: middle;\n",
       "    }\n",
       "\n",
       "    .dataframe tbody tr th {\n",
       "        vertical-align: top;\n",
       "    }\n",
       "\n",
       "    .dataframe thead th {\n",
       "        text-align: right;\n",
       "    }\n",
       "</style>\n",
       "<table border=\"1\" class=\"dataframe\">\n",
       "  <thead>\n",
       "    <tr style=\"text-align: right;\">\n",
       "      <th></th>\n",
       "      <th>Athlete</th>\n",
       "      <th>City</th>\n",
       "      <th>Country</th>\n",
       "      <th>Discipline</th>\n",
       "      <th>Event</th>\n",
       "      <th>Gender</th>\n",
       "      <th>Medal</th>\n",
       "      <th>Season</th>\n",
       "      <th>Sport</th>\n",
       "      <th>Year</th>\n",
       "    </tr>\n",
       "  </thead>\n",
       "  <tbody>\n",
       "    <tr>\n",
       "      <th>1639</th>\n",
       "      <td>SOMERS-SMITH, John Robert</td>\n",
       "      <td>London</td>\n",
       "      <td>GBR</td>\n",
       "      <td>Rowing</td>\n",
       "      <td>Four Without Coxswain (4-)</td>\n",
       "      <td>Men</td>\n",
       "      <td>Gold</td>\n",
       "      <td>Summer</td>\n",
       "      <td>Rowing</td>\n",
       "      <td>1908</td>\n",
       "    </tr>\n",
       "    <tr>\n",
       "      <th>16946</th>\n",
       "      <td>LOSCH, Claudia</td>\n",
       "      <td>Los Angeles</td>\n",
       "      <td>FRG</td>\n",
       "      <td>Athletics</td>\n",
       "      <td>Shot Put</td>\n",
       "      <td>Women</td>\n",
       "      <td>Gold</td>\n",
       "      <td>Summer</td>\n",
       "      <td>Athletics</td>\n",
       "      <td>1984</td>\n",
       "    </tr>\n",
       "    <tr>\n",
       "      <th>1159</th>\n",
       "      <td>GUSTAFSSON, Toini</td>\n",
       "      <td>Innsbruck</td>\n",
       "      <td>SWE</td>\n",
       "      <td>Cross Country Skiing</td>\n",
       "      <td>3X5KM Relay</td>\n",
       "      <td>Women</td>\n",
       "      <td>Silver</td>\n",
       "      <td>Winter</td>\n",
       "      <td>Skiing</td>\n",
       "      <td>1964</td>\n",
       "    </tr>\n",
       "    <tr>\n",
       "      <th>9668</th>\n",
       "      <td>BUXTON, Douglas Raymond</td>\n",
       "      <td>Melbourne / Stockholm</td>\n",
       "      <td>AUS</td>\n",
       "      <td>Sailing</td>\n",
       "      <td>5.5M</td>\n",
       "      <td>Men</td>\n",
       "      <td>Bronze</td>\n",
       "      <td>Summer</td>\n",
       "      <td>Sailing</td>\n",
       "      <td>1956</td>\n",
       "    </tr>\n",
       "    <tr>\n",
       "      <th>7104</th>\n",
       "      <td>LEAF, Charles Symonds</td>\n",
       "      <td>Berlin</td>\n",
       "      <td>GBR</td>\n",
       "      <td>Sailing</td>\n",
       "      <td>6M</td>\n",
       "      <td>Men</td>\n",
       "      <td>Gold</td>\n",
       "      <td>Summer</td>\n",
       "      <td>Sailing</td>\n",
       "      <td>1936</td>\n",
       "    </tr>\n",
       "    <tr>\n",
       "      <th>25242</th>\n",
       "      <td>BUSCHSCHULTE, Antje</td>\n",
       "      <td>Athens</td>\n",
       "      <td>GER</td>\n",
       "      <td>Swimming</td>\n",
       "      <td>200M Backstroke</td>\n",
       "      <td>Women</td>\n",
       "      <td>Bronze</td>\n",
       "      <td>Summer</td>\n",
       "      <td>Aquatics</td>\n",
       "      <td>2004</td>\n",
       "    </tr>\n",
       "    <tr>\n",
       "      <th>17067</th>\n",
       "      <td>MUSONE, Angelo</td>\n",
       "      <td>Los Angeles</td>\n",
       "      <td>ITA</td>\n",
       "      <td>Boxing</td>\n",
       "      <td>81 - 91KG (Heavyweight)</td>\n",
       "      <td>Men</td>\n",
       "      <td>Bronze</td>\n",
       "      <td>Summer</td>\n",
       "      <td>Boxing</td>\n",
       "      <td>1984</td>\n",
       "    </tr>\n",
       "    <tr>\n",
       "      <th>28677</th>\n",
       "      <td>HOWARD, Malcolm</td>\n",
       "      <td>Beijing</td>\n",
       "      <td>CAN</td>\n",
       "      <td>Rowing</td>\n",
       "      <td>Eight With Coxswain (8+)</td>\n",
       "      <td>Men</td>\n",
       "      <td>Gold</td>\n",
       "      <td>Summer</td>\n",
       "      <td>Rowing</td>\n",
       "      <td>2008</td>\n",
       "    </tr>\n",
       "    <tr>\n",
       "      <th>2260</th>\n",
       "      <td>SHARPE, Ivor Gordon</td>\n",
       "      <td>Stockholm</td>\n",
       "      <td>GBR</td>\n",
       "      <td>Football</td>\n",
       "      <td>Football</td>\n",
       "      <td>Men</td>\n",
       "      <td>Gold</td>\n",
       "      <td>Summer</td>\n",
       "      <td>Football</td>\n",
       "      <td>1912</td>\n",
       "    </tr>\n",
       "    <tr>\n",
       "      <th>16034</th>\n",
       "      <td>MATZ, Evelyn</td>\n",
       "      <td>Moscow</td>\n",
       "      <td>GDR</td>\n",
       "      <td>Handball</td>\n",
       "      <td>Handball</td>\n",
       "      <td>Women</td>\n",
       "      <td>Bronze</td>\n",
       "      <td>Summer</td>\n",
       "      <td>Handball</td>\n",
       "      <td>1980</td>\n",
       "    </tr>\n",
       "    <tr>\n",
       "      <th>3279</th>\n",
       "      <td>SANTELLI, Italo</td>\n",
       "      <td>Antwerp</td>\n",
       "      <td>ITA</td>\n",
       "      <td>Fencing</td>\n",
       "      <td>Sabre Team</td>\n",
       "      <td>Men</td>\n",
       "      <td>Gold</td>\n",
       "      <td>Summer</td>\n",
       "      <td>Fencing</td>\n",
       "      <td>1920</td>\n",
       "    </tr>\n",
       "    <tr>\n",
       "      <th>663</th>\n",
       "      <td>BRAUNSCHWEIGER, Alfred</td>\n",
       "      <td>St Louis</td>\n",
       "      <td>GER</td>\n",
       "      <td>Diving</td>\n",
       "      <td>10M Platform</td>\n",
       "      <td>Men</td>\n",
       "      <td>Bronze</td>\n",
       "      <td>Summer</td>\n",
       "      <td>Aquatics</td>\n",
       "      <td>1904</td>\n",
       "    </tr>\n",
       "    <tr>\n",
       "      <th>1321</th>\n",
       "      <td>TITOVA, Lyudmila</td>\n",
       "      <td>Grenoble</td>\n",
       "      <td>URS</td>\n",
       "      <td>Speed skating</td>\n",
       "      <td>500M</td>\n",
       "      <td>Women</td>\n",
       "      <td>Gold</td>\n",
       "      <td>Winter</td>\n",
       "      <td>Skating</td>\n",
       "      <td>1968</td>\n",
       "    </tr>\n",
       "    <tr>\n",
       "      <th>16743</th>\n",
       "      <td>RUIZ-CONFORTO, Tracie Lehuanani</td>\n",
       "      <td>Los Angeles</td>\n",
       "      <td>USA</td>\n",
       "      <td>Synchronized S.</td>\n",
       "      <td>Solo</td>\n",
       "      <td>Women</td>\n",
       "      <td>Gold</td>\n",
       "      <td>Summer</td>\n",
       "      <td>Aquatics</td>\n",
       "      <td>1984</td>\n",
       "    </tr>\n",
       "    <tr>\n",
       "      <th>14463</th>\n",
       "      <td>KULCSAR, Gyözö</td>\n",
       "      <td>Montreal</td>\n",
       "      <td>HUN</td>\n",
       "      <td>Fencing</td>\n",
       "      <td>Épée Individual</td>\n",
       "      <td>Men</td>\n",
       "      <td>Bronze</td>\n",
       "      <td>Summer</td>\n",
       "      <td>Fencing</td>\n",
       "      <td>1976</td>\n",
       "    </tr>\n",
       "    <tr>\n",
       "      <th>4555</th>\n",
       "      <td>SCARONE, Hector</td>\n",
       "      <td>Paris</td>\n",
       "      <td>URU</td>\n",
       "      <td>Football</td>\n",
       "      <td>Football</td>\n",
       "      <td>Men</td>\n",
       "      <td>Gold</td>\n",
       "      <td>Summer</td>\n",
       "      <td>Football</td>\n",
       "      <td>1924</td>\n",
       "    </tr>\n",
       "    <tr>\n",
       "      <th>13927</th>\n",
       "      <td>BOGLIOLI, Wendy Lansbach</td>\n",
       "      <td>Montreal</td>\n",
       "      <td>USA</td>\n",
       "      <td>Swimming</td>\n",
       "      <td>100M Butterfly</td>\n",
       "      <td>Women</td>\n",
       "      <td>Bronze</td>\n",
       "      <td>Summer</td>\n",
       "      <td>Aquatics</td>\n",
       "      <td>1976</td>\n",
       "    </tr>\n",
       "    <tr>\n",
       "      <th>11148</th>\n",
       "      <td>KRISS, Grigori</td>\n",
       "      <td>Tokyo</td>\n",
       "      <td>URS</td>\n",
       "      <td>Fencing</td>\n",
       "      <td>Épée Individual</td>\n",
       "      <td>Men</td>\n",
       "      <td>Gold</td>\n",
       "      <td>Summer</td>\n",
       "      <td>Fencing</td>\n",
       "      <td>1964</td>\n",
       "    </tr>\n",
       "    <tr>\n",
       "      <th>4309</th>\n",
       "      <td>MACLEOD, Carla</td>\n",
       "      <td>Turin</td>\n",
       "      <td>CAN</td>\n",
       "      <td>Ice Hockey</td>\n",
       "      <td>Ice Hockey</td>\n",
       "      <td>Women</td>\n",
       "      <td>Gold</td>\n",
       "      <td>Winter</td>\n",
       "      <td>Ice Hockey</td>\n",
       "      <td>2006</td>\n",
       "    </tr>\n",
       "    <tr>\n",
       "      <th>2977</th>\n",
       "      <td>FAUVEL, Pascal</td>\n",
       "      <td>Antwerp</td>\n",
       "      <td>FRA</td>\n",
       "      <td>Archery</td>\n",
       "      <td>Moving Bird Target 50M Teams</td>\n",
       "      <td>Men</td>\n",
       "      <td>Silver</td>\n",
       "      <td>Summer</td>\n",
       "      <td>Archery</td>\n",
       "      <td>1920</td>\n",
       "    </tr>\n",
       "  </tbody>\n",
       "</table>\n",
       "</div>"
      ],
      "text/plain": [
       "                               Athlete                   City Country  \\\n",
       "1639         SOMERS-SMITH, John Robert                 London     GBR   \n",
       "16946                   LOSCH, Claudia            Los Angeles     FRG   \n",
       "1159                 GUSTAFSSON, Toini              Innsbruck     SWE   \n",
       "9668           BUXTON, Douglas Raymond  Melbourne / Stockholm     AUS   \n",
       "7104             LEAF, Charles Symonds                 Berlin     GBR   \n",
       "25242              BUSCHSCHULTE, Antje                 Athens     GER   \n",
       "17067                   MUSONE, Angelo            Los Angeles     ITA   \n",
       "28677                  HOWARD, Malcolm                Beijing     CAN   \n",
       "2260               SHARPE, Ivor Gordon              Stockholm     GBR   \n",
       "16034                     MATZ, Evelyn                 Moscow     GDR   \n",
       "3279                   SANTELLI, Italo                Antwerp     ITA   \n",
       "663             BRAUNSCHWEIGER, Alfred               St Louis     GER   \n",
       "1321                  TITOVA, Lyudmila               Grenoble     URS   \n",
       "16743  RUIZ-CONFORTO, Tracie Lehuanani            Los Angeles     USA   \n",
       "14463                   KULCSAR, Gyözö               Montreal     HUN   \n",
       "4555                   SCARONE, Hector                  Paris     URU   \n",
       "13927         BOGLIOLI, Wendy Lansbach               Montreal     USA   \n",
       "11148                   KRISS, Grigori                  Tokyo     URS   \n",
       "4309                    MACLEOD, Carla                  Turin     CAN   \n",
       "2977                    FAUVEL, Pascal                Antwerp     FRA   \n",
       "\n",
       "                 Discipline                         Event Gender   Medal  \\\n",
       "1639                 Rowing    Four Without Coxswain (4-)    Men    Gold   \n",
       "16946             Athletics                      Shot Put  Women    Gold   \n",
       "1159   Cross Country Skiing                   3X5KM Relay  Women  Silver   \n",
       "9668                Sailing                          5.5M    Men  Bronze   \n",
       "7104                Sailing                            6M    Men    Gold   \n",
       "25242              Swimming               200M Backstroke  Women  Bronze   \n",
       "17067                Boxing       81 - 91KG (Heavyweight)    Men  Bronze   \n",
       "28677                Rowing      Eight With Coxswain (8+)    Men    Gold   \n",
       "2260               Football                      Football    Men    Gold   \n",
       "16034              Handball                      Handball  Women  Bronze   \n",
       "3279                Fencing                    Sabre Team    Men    Gold   \n",
       "663                  Diving                  10M Platform    Men  Bronze   \n",
       "1321          Speed skating                          500M  Women    Gold   \n",
       "16743       Synchronized S.                          Solo  Women    Gold   \n",
       "14463               Fencing               Épée Individual    Men  Bronze   \n",
       "4555               Football                      Football    Men    Gold   \n",
       "13927              Swimming                100M Butterfly  Women  Bronze   \n",
       "11148               Fencing               Épée Individual    Men    Gold   \n",
       "4309             Ice Hockey                    Ice Hockey  Women    Gold   \n",
       "2977                Archery  Moving Bird Target 50M Teams    Men  Silver   \n",
       "\n",
       "       Season       Sport  Year  \n",
       "1639   Summer      Rowing  1908  \n",
       "16946  Summer   Athletics  1984  \n",
       "1159   Winter      Skiing  1964  \n",
       "9668   Summer     Sailing  1956  \n",
       "7104   Summer     Sailing  1936  \n",
       "25242  Summer    Aquatics  2004  \n",
       "17067  Summer      Boxing  1984  \n",
       "28677  Summer      Rowing  2008  \n",
       "2260   Summer    Football  1912  \n",
       "16034  Summer    Handball  1980  \n",
       "3279   Summer     Fencing  1920  \n",
       "663    Summer    Aquatics  1904  \n",
       "1321   Winter     Skating  1968  \n",
       "16743  Summer    Aquatics  1984  \n",
       "14463  Summer     Fencing  1976  \n",
       "4555   Summer    Football  1924  \n",
       "13927  Summer    Aquatics  1976  \n",
       "11148  Summer     Fencing  1964  \n",
       "4309   Winter  Ice Hockey  2006  \n",
       "2977   Summer     Archery  1920  "
      ]
     },
     "execution_count": 53,
     "metadata": {},
     "output_type": "execute_result"
    }
   ],
   "source": [
    "### generate a random sample of 20 rows\n",
    "### if you see only \"summer\" or only \"winter\" in the \"Season\" column, just run the cell again to\n",
    "## confirm both seasons are in oly.\n",
    "oly.sample(20)"
   ]
  },
  {
   "cell_type": "code",
   "execution_count": 54,
   "metadata": {},
   "outputs": [],
   "source": [
    "oly.to_csv(\"data/olympics.csv\", encoding = \"UTF-8\", index = False)"
   ]
  },
  {
   "cell_type": "markdown",
   "metadata": {
    "id": "9enrYGS9Qanw",
    "slideshow": {
     "slide_type": "slide"
    }
   },
   "source": [
    "## Improving memory allocation\n",
    "\n",
    "If we were working with a massive dataset, we'd want to find ways to improve processing power.\n",
    "\n",
    "For example, the following columns have only a few values that repeat again and again as strings. This is highly inefficient. \n",
    "\n",
    "- The \"Season\" column has \"winter\" and \"summer\", \n",
    "- The \"Medal\" column only has \"gold\", \"silver\" and \"bronze\",\n",
    "- \"Gender\" at this point in the Olympics only has \"male\" and \"female\".\n",
    "\n",
    "One way to improve memory allocation is to take columns with that contain only a few data points and turn them into categories. \n",
    "\n"
   ]
  },
  {
   "cell_type": "code",
   "execution_count": 18,
   "metadata": {
    "colab": {
     "base_uri": "https://localhost:8080/"
    },
    "executionInfo": {
     "elapsed": 245,
     "status": "ok",
     "timestamp": 1617984722169,
     "user": {
      "displayName": "Sandeep Junnarkar",
      "photoUrl": "",
      "userId": "15658885848901522782"
     },
     "user_tz": 240
    },
    "id": "uNNqfn6gQanw",
    "outputId": "adc2ad8d-138c-4553-dcc9-c93aac0e1c77",
    "slideshow": {
     "slide_type": "slide"
    }
   },
   "outputs": [],
   "source": [
    "## let's first get info() on oly.\n",
    "## you should see how \"Season\", \"Medal\" and \"Gender\" are all string objects.\n",
    "## Note that memory usage: 3.1+ MB\n"
   ]
  },
  {
   "cell_type": "code",
   "execution_count": 19,
   "metadata": {
    "id": "dwdNOcjjQanw",
    "slideshow": {
     "slide_type": "slide"
    }
   },
   "outputs": [],
   "source": [
    "## convert gender, medal and season  to catagory\n"
   ]
  },
  {
   "cell_type": "code",
   "execution_count": 20,
   "metadata": {
    "colab": {
     "base_uri": "https://localhost:8080/"
    },
    "executionInfo": {
     "elapsed": 333,
     "status": "ok",
     "timestamp": 1617984800409,
     "user": {
      "displayName": "Sandeep Junnarkar",
      "photoUrl": "",
      "userId": "15658885848901522782"
     },
     "user_tz": 240
    },
    "id": "txD6wVuUQanw",
    "outputId": "ecba3db9-d132-4031-b306-b4dfd45de88d",
    "slideshow": {
     "slide_type": "slide"
    }
   },
   "outputs": [],
   "source": [
    "## See what the memory allocation is now using info()\n",
    "\n"
   ]
  },
  {
   "cell_type": "markdown",
   "metadata": {
    "id": "z5WLiR4OaivH",
    "slideshow": {
     "slide_type": "slide"
    }
   },
   "source": [
    "It should have dropped to 2.4MB.\n",
    "That's a big descrease for just about 37,000 rows. \n",
    "\n",
    "This would have an even bigger impact on larger datasets."
   ]
  },
  {
   "cell_type": "markdown",
   "metadata": {
    "id": "ROXHvi1Kjt16",
    "slideshow": {
     "slide_type": "slide"
    }
   },
   "source": [
    "# Filter/Subset \n",
    "\n"
   ]
  },
  {
   "cell_type": "markdown",
   "metadata": {
    "id": "T0yf0CIk6f3g",
    "slideshow": {
     "slide_type": "slide"
    }
   },
   "source": [
    "## Create a subset that holds the results from the Sochi Olympics\n",
    "\n",
    "```df[df[\"column_name\"] == \"value_in_column\"]```"
   ]
  },
  {
   "cell_type": "code",
   "execution_count": 58,
   "metadata": {
    "colab": {
     "base_uri": "https://localhost:8080/",
     "height": 402
    },
    "executionInfo": {
     "elapsed": 519,
     "status": "ok",
     "timestamp": 1617987509495,
     "user": {
      "displayName": "Sandeep Junnarkar",
      "photoUrl": "",
      "userId": "15658885848901522782"
     },
     "user_tz": 240
    },
    "id": "aANMcJqekN2r",
    "outputId": "f71579b9-eb17-437d-c50f-864dd6e4d990",
    "slideshow": {
     "slide_type": "slide"
    }
   },
   "outputs": [
    {
     "data": {
      "text/html": [
       "<div>\n",
       "<style scoped>\n",
       "    .dataframe tbody tr th:only-of-type {\n",
       "        vertical-align: middle;\n",
       "    }\n",
       "\n",
       "    .dataframe tbody tr th {\n",
       "        vertical-align: top;\n",
       "    }\n",
       "\n",
       "    .dataframe thead th {\n",
       "        text-align: right;\n",
       "    }\n",
       "</style>\n",
       "<table border=\"1\" class=\"dataframe\">\n",
       "  <thead>\n",
       "    <tr style=\"text-align: right;\">\n",
       "      <th></th>\n",
       "      <th>Athlete</th>\n",
       "      <th>City</th>\n",
       "      <th>Country</th>\n",
       "      <th>Discipline</th>\n",
       "      <th>Event</th>\n",
       "      <th>Gender</th>\n",
       "      <th>Medal</th>\n",
       "      <th>Season</th>\n",
       "      <th>Sport</th>\n",
       "      <th>Year</th>\n",
       "    </tr>\n",
       "  </thead>\n",
       "  <tbody>\n",
       "    <tr>\n",
       "      <th>5542</th>\n",
       "      <td>MULDER, Ronald</td>\n",
       "      <td>Sochi</td>\n",
       "      <td>NED</td>\n",
       "      <td>Speed skating</td>\n",
       "      <td>500M</td>\n",
       "      <td>Men</td>\n",
       "      <td>Bronze</td>\n",
       "      <td>Winter</td>\n",
       "      <td>Skating</td>\n",
       "      <td>2014</td>\n",
       "    </tr>\n",
       "    <tr>\n",
       "      <th>5329</th>\n",
       "      <td>BACKSTROM, Nicklas</td>\n",
       "      <td>Sochi</td>\n",
       "      <td>SWE</td>\n",
       "      <td>Ice Hockey</td>\n",
       "      <td>Ice Hockey</td>\n",
       "      <td>Men</td>\n",
       "      <td>Silver</td>\n",
       "      <td>Winter</td>\n",
       "      <td>Ice Hockey</td>\n",
       "      <td>2014</td>\n",
       "    </tr>\n",
       "    <tr>\n",
       "      <th>5549</th>\n",
       "      <td>VERWEIJ, Koen</td>\n",
       "      <td>Sochi</td>\n",
       "      <td>NED</td>\n",
       "      <td>Speed skating</td>\n",
       "      <td>Team Pursuit</td>\n",
       "      <td>Men</td>\n",
       "      <td>Gold</td>\n",
       "      <td>Winter</td>\n",
       "      <td>Skating</td>\n",
       "      <td>2014</td>\n",
       "    </tr>\n",
       "    <tr>\n",
       "      <th>5439</th>\n",
       "      <td>HAMLIN, Erin</td>\n",
       "      <td>Sochi</td>\n",
       "      <td>USA</td>\n",
       "      <td>Luge</td>\n",
       "      <td>Singles</td>\n",
       "      <td>Women</td>\n",
       "      <td>Bronze</td>\n",
       "      <td>Winter</td>\n",
       "      <td>Luge</td>\n",
       "      <td>2014</td>\n",
       "    </tr>\n",
       "    <tr>\n",
       "      <th>5617</th>\n",
       "      <td>PERRILLAT BOITEUX, Ivan</td>\n",
       "      <td>Sochi</td>\n",
       "      <td>FRA</td>\n",
       "      <td>Cross Country Skiing</td>\n",
       "      <td>4X10KM Relay</td>\n",
       "      <td>Men</td>\n",
       "      <td>Bronze</td>\n",
       "      <td>Winter</td>\n",
       "      <td>Skiing</td>\n",
       "      <td>2014</td>\n",
       "    </tr>\n",
       "    <tr>\n",
       "      <th>5308</th>\n",
       "      <td>JOKINEN, Jussi</td>\n",
       "      <td>Sochi</td>\n",
       "      <td>FIN</td>\n",
       "      <td>Ice Hockey</td>\n",
       "      <td>Ice Hockey</td>\n",
       "      <td>Men</td>\n",
       "      <td>Bronze</td>\n",
       "      <td>Winter</td>\n",
       "      <td>Ice Hockey</td>\n",
       "      <td>2014</td>\n",
       "    </tr>\n",
       "    <tr>\n",
       "      <th>5507</th>\n",
       "      <td>FAN, Kexin</td>\n",
       "      <td>Sochi</td>\n",
       "      <td>CHN</td>\n",
       "      <td>Short Track Speed Skating</td>\n",
       "      <td>1000M</td>\n",
       "      <td>Women</td>\n",
       "      <td>Silver</td>\n",
       "      <td>Winter</td>\n",
       "      <td>Skating</td>\n",
       "      <td>2014</td>\n",
       "    </tr>\n",
       "    <tr>\n",
       "      <th>5375</th>\n",
       "      <td>ALTMANN, Livia</td>\n",
       "      <td>Sochi</td>\n",
       "      <td>SUI</td>\n",
       "      <td>Ice Hockey</td>\n",
       "      <td>Ice Hockey</td>\n",
       "      <td>Women</td>\n",
       "      <td>Bronze</td>\n",
       "      <td>Winter</td>\n",
       "      <td>Ice Hockey</td>\n",
       "      <td>2014</td>\n",
       "    </tr>\n",
       "    <tr>\n",
       "      <th>5493</th>\n",
       "      <td>LIANG, Wenhao</td>\n",
       "      <td>Sochi</td>\n",
       "      <td>CHN</td>\n",
       "      <td>Short Track Speed Skating</td>\n",
       "      <td>5000M Relay</td>\n",
       "      <td>Men</td>\n",
       "      <td>Bronze</td>\n",
       "      <td>Winter</td>\n",
       "      <td>Skating</td>\n",
       "      <td>2014</td>\n",
       "    </tr>\n",
       "    <tr>\n",
       "      <th>5389</th>\n",
       "      <td>SCHELLING, Florence</td>\n",
       "      <td>Sochi</td>\n",
       "      <td>SUI</td>\n",
       "      <td>Ice Hockey</td>\n",
       "      <td>Ice Hockey</td>\n",
       "      <td>Women</td>\n",
       "      <td>Bronze</td>\n",
       "      <td>Winter</td>\n",
       "      <td>Ice Hockey</td>\n",
       "      <td>2014</td>\n",
       "    </tr>\n",
       "    <tr>\n",
       "      <th>5322</th>\n",
       "      <td>SALMINEN, Sakari</td>\n",
       "      <td>Sochi</td>\n",
       "      <td>FIN</td>\n",
       "      <td>Ice Hockey</td>\n",
       "      <td>Ice Hockey</td>\n",
       "      <td>Men</td>\n",
       "      <td>Bronze</td>\n",
       "      <td>Winter</td>\n",
       "      <td>Ice Hockey</td>\n",
       "      <td>2014</td>\n",
       "    </tr>\n",
       "    <tr>\n",
       "      <th>5267</th>\n",
       "      <td>WALL, Kirsten</td>\n",
       "      <td>Sochi</td>\n",
       "      <td>CAN</td>\n",
       "      <td>Curling</td>\n",
       "      <td>Curling</td>\n",
       "      <td>Women</td>\n",
       "      <td>Gold</td>\n",
       "      <td>Winter</td>\n",
       "      <td>Curling</td>\n",
       "      <td>2014</td>\n",
       "    </tr>\n",
       "    <tr>\n",
       "      <th>5321</th>\n",
       "      <td>RUUTU, Tuomo</td>\n",
       "      <td>Sochi</td>\n",
       "      <td>FIN</td>\n",
       "      <td>Ice Hockey</td>\n",
       "      <td>Ice Hockey</td>\n",
       "      <td>Men</td>\n",
       "      <td>Bronze</td>\n",
       "      <td>Winter</td>\n",
       "      <td>Ice Hockey</td>\n",
       "      <td>2014</td>\n",
       "    </tr>\n",
       "    <tr>\n",
       "      <th>5704</th>\n",
       "      <td>RIESSLE, Fabian</td>\n",
       "      <td>Sochi</td>\n",
       "      <td>GER</td>\n",
       "      <td>Nordic Combined</td>\n",
       "      <td>Sprint K120</td>\n",
       "      <td>Men</td>\n",
       "      <td>Bronze</td>\n",
       "      <td>Winter</td>\n",
       "      <td>Skiing</td>\n",
       "      <td>2014</td>\n",
       "    </tr>\n",
       "    <tr>\n",
       "      <th>5247</th>\n",
       "      <td>PIKUS-PACE, Noelle</td>\n",
       "      <td>Sochi</td>\n",
       "      <td>USA</td>\n",
       "      <td>Skeleton</td>\n",
       "      <td>Individual</td>\n",
       "      <td>Women</td>\n",
       "      <td>Silver</td>\n",
       "      <td>Winter</td>\n",
       "      <td>Bobsleigh</td>\n",
       "      <td>2014</td>\n",
       "    </tr>\n",
       "    <tr>\n",
       "      <th>5337</th>\n",
       "      <td>GUSTAVSSON, Jonas</td>\n",
       "      <td>Sochi</td>\n",
       "      <td>SWE</td>\n",
       "      <td>Ice Hockey</td>\n",
       "      <td>Ice Hockey</td>\n",
       "      <td>Men</td>\n",
       "      <td>Silver</td>\n",
       "      <td>Winter</td>\n",
       "      <td>Ice Hockey</td>\n",
       "      <td>2014</td>\n",
       "    </tr>\n",
       "    <tr>\n",
       "      <th>5295</th>\n",
       "      <td>SHARP, Patrick</td>\n",
       "      <td>Sochi</td>\n",
       "      <td>CAN</td>\n",
       "      <td>Ice Hockey</td>\n",
       "      <td>Ice Hockey</td>\n",
       "      <td>Men</td>\n",
       "      <td>Gold</td>\n",
       "      <td>Winter</td>\n",
       "      <td>Ice Hockey</td>\n",
       "      <td>2014</td>\n",
       "    </tr>\n",
       "    <tr>\n",
       "      <th>5257</th>\n",
       "      <td>MURDOCH, David</td>\n",
       "      <td>Sochi</td>\n",
       "      <td>GBR</td>\n",
       "      <td>Curling</td>\n",
       "      <td>Curling</td>\n",
       "      <td>Men</td>\n",
       "      <td>Silver</td>\n",
       "      <td>Winter</td>\n",
       "      <td>Curling</td>\n",
       "      <td>2014</td>\n",
       "    </tr>\n",
       "    <tr>\n",
       "      <th>5229</th>\n",
       "      <td>TOMASEVICZ, Curtis</td>\n",
       "      <td>Sochi</td>\n",
       "      <td>USA</td>\n",
       "      <td>Bobsleigh</td>\n",
       "      <td>Four-Man</td>\n",
       "      <td>Men</td>\n",
       "      <td>Bronze</td>\n",
       "      <td>Winter</td>\n",
       "      <td>Bobsleigh</td>\n",
       "      <td>2014</td>\n",
       "    </tr>\n",
       "    <tr>\n",
       "      <th>5531</th>\n",
       "      <td>KRAMER, Sven</td>\n",
       "      <td>Sochi</td>\n",
       "      <td>NED</td>\n",
       "      <td>Speed skating</td>\n",
       "      <td>10000M</td>\n",
       "      <td>Men</td>\n",
       "      <td>Silver</td>\n",
       "      <td>Winter</td>\n",
       "      <td>Skating</td>\n",
       "      <td>2014</td>\n",
       "    </tr>\n",
       "  </tbody>\n",
       "</table>\n",
       "</div>"
      ],
      "text/plain": [
       "                      Athlete   City Country                 Discipline  \\\n",
       "5542           MULDER, Ronald  Sochi     NED              Speed skating   \n",
       "5329       BACKSTROM, Nicklas  Sochi     SWE                 Ice Hockey   \n",
       "5549            VERWEIJ, Koen  Sochi     NED              Speed skating   \n",
       "5439             HAMLIN, Erin  Sochi     USA                       Luge   \n",
       "5617  PERRILLAT BOITEUX, Ivan  Sochi     FRA       Cross Country Skiing   \n",
       "5308           JOKINEN, Jussi  Sochi     FIN                 Ice Hockey   \n",
       "5507               FAN, Kexin  Sochi     CHN  Short Track Speed Skating   \n",
       "5375           ALTMANN, Livia  Sochi     SUI                 Ice Hockey   \n",
       "5493            LIANG, Wenhao  Sochi     CHN  Short Track Speed Skating   \n",
       "5389      SCHELLING, Florence  Sochi     SUI                 Ice Hockey   \n",
       "5322         SALMINEN, Sakari  Sochi     FIN                 Ice Hockey   \n",
       "5267            WALL, Kirsten  Sochi     CAN                    Curling   \n",
       "5321             RUUTU, Tuomo  Sochi     FIN                 Ice Hockey   \n",
       "5704          RIESSLE, Fabian  Sochi     GER            Nordic Combined   \n",
       "5247       PIKUS-PACE, Noelle  Sochi     USA                   Skeleton   \n",
       "5337        GUSTAVSSON, Jonas  Sochi     SWE                 Ice Hockey   \n",
       "5295           SHARP, Patrick  Sochi     CAN                 Ice Hockey   \n",
       "5257           MURDOCH, David  Sochi     GBR                    Curling   \n",
       "5229       TOMASEVICZ, Curtis  Sochi     USA                  Bobsleigh   \n",
       "5531             KRAMER, Sven  Sochi     NED              Speed skating   \n",
       "\n",
       "             Event Gender   Medal  Season       Sport  Year  \n",
       "5542          500M    Men  Bronze  Winter     Skating  2014  \n",
       "5329    Ice Hockey    Men  Silver  Winter  Ice Hockey  2014  \n",
       "5549  Team Pursuit    Men    Gold  Winter     Skating  2014  \n",
       "5439       Singles  Women  Bronze  Winter        Luge  2014  \n",
       "5617  4X10KM Relay    Men  Bronze  Winter      Skiing  2014  \n",
       "5308    Ice Hockey    Men  Bronze  Winter  Ice Hockey  2014  \n",
       "5507         1000M  Women  Silver  Winter     Skating  2014  \n",
       "5375    Ice Hockey  Women  Bronze  Winter  Ice Hockey  2014  \n",
       "5493   5000M Relay    Men  Bronze  Winter     Skating  2014  \n",
       "5389    Ice Hockey  Women  Bronze  Winter  Ice Hockey  2014  \n",
       "5322    Ice Hockey    Men  Bronze  Winter  Ice Hockey  2014  \n",
       "5267       Curling  Women    Gold  Winter     Curling  2014  \n",
       "5321    Ice Hockey    Men  Bronze  Winter  Ice Hockey  2014  \n",
       "5704   Sprint K120    Men  Bronze  Winter      Skiing  2014  \n",
       "5247    Individual  Women  Silver  Winter   Bobsleigh  2014  \n",
       "5337    Ice Hockey    Men  Silver  Winter  Ice Hockey  2014  \n",
       "5295    Ice Hockey    Men    Gold  Winter  Ice Hockey  2014  \n",
       "5257       Curling    Men  Silver  Winter     Curling  2014  \n",
       "5229      Four-Man    Men  Bronze  Winter   Bobsleigh  2014  \n",
       "5531        10000M    Men  Silver  Winter     Skating  2014  "
      ]
     },
     "execution_count": 58,
     "metadata": {},
     "output_type": "execute_result"
    }
   ],
   "source": [
    "## Sochi subset\n",
    "oly[oly[\"City\"] == \"Sochi\"].sample(20)\n"
   ]
  },
  {
   "cell_type": "code",
   "execution_count": 59,
   "metadata": {
    "colab": {
     "base_uri": "https://localhost:8080/",
     "height": 195
    },
    "executionInfo": {
     "elapsed": 677,
     "status": "ok",
     "timestamp": 1617987670572,
     "user": {
      "displayName": "Sandeep Junnarkar",
      "photoUrl": "",
      "userId": "15658885848901522782"
     },
     "user_tz": 240
    },
    "id": "L0OynpIdknE5",
    "outputId": "9fd166bd-39e6-4e01-b999-8523665db687",
    "slideshow": {
     "slide_type": "slide"
    }
   },
   "outputs": [
    {
     "data": {
      "text/html": [
       "<div>\n",
       "<style scoped>\n",
       "    .dataframe tbody tr th:only-of-type {\n",
       "        vertical-align: middle;\n",
       "    }\n",
       "\n",
       "    .dataframe tbody tr th {\n",
       "        vertical-align: top;\n",
       "    }\n",
       "\n",
       "    .dataframe thead th {\n",
       "        text-align: right;\n",
       "    }\n",
       "</style>\n",
       "<table border=\"1\" class=\"dataframe\">\n",
       "  <thead>\n",
       "    <tr style=\"text-align: right;\">\n",
       "      <th></th>\n",
       "      <th>Athlete</th>\n",
       "      <th>City</th>\n",
       "      <th>Country</th>\n",
       "      <th>Discipline</th>\n",
       "      <th>Event</th>\n",
       "      <th>Gender</th>\n",
       "      <th>Medal</th>\n",
       "      <th>Season</th>\n",
       "      <th>Sport</th>\n",
       "      <th>Year</th>\n",
       "    </tr>\n",
       "  </thead>\n",
       "  <tbody>\n",
       "    <tr>\n",
       "      <th>5158</th>\n",
       "      <td>LANDERTINGER, Dominik</td>\n",
       "      <td>Sochi</td>\n",
       "      <td>AUT</td>\n",
       "      <td>Biathlon</td>\n",
       "      <td>10KM</td>\n",
       "      <td>Men</td>\n",
       "      <td>Silver</td>\n",
       "      <td>Winter</td>\n",
       "      <td>Biathlon</td>\n",
       "      <td>2014</td>\n",
       "    </tr>\n",
       "    <tr>\n",
       "      <th>5159</th>\n",
       "      <td>SOUKUP, Jaroslav</td>\n",
       "      <td>Sochi</td>\n",
       "      <td>CZE</td>\n",
       "      <td>Biathlon</td>\n",
       "      <td>10KM</td>\n",
       "      <td>Men</td>\n",
       "      <td>Bronze</td>\n",
       "      <td>Winter</td>\n",
       "      <td>Biathlon</td>\n",
       "      <td>2014</td>\n",
       "    </tr>\n",
       "    <tr>\n",
       "      <th>5160</th>\n",
       "      <td>BJOERNDALEN, Ole Einar</td>\n",
       "      <td>Sochi</td>\n",
       "      <td>NOR</td>\n",
       "      <td>Biathlon</td>\n",
       "      <td>10KM</td>\n",
       "      <td>Men</td>\n",
       "      <td>Gold</td>\n",
       "      <td>Winter</td>\n",
       "      <td>Biathlon</td>\n",
       "      <td>2014</td>\n",
       "    </tr>\n",
       "    <tr>\n",
       "      <th>5161</th>\n",
       "      <td>MORAVEC, Ondrej</td>\n",
       "      <td>Sochi</td>\n",
       "      <td>CZE</td>\n",
       "      <td>Biathlon</td>\n",
       "      <td>12.5Km Pursuit</td>\n",
       "      <td>Men</td>\n",
       "      <td>Silver</td>\n",
       "      <td>Winter</td>\n",
       "      <td>Biathlon</td>\n",
       "      <td>2014</td>\n",
       "    </tr>\n",
       "    <tr>\n",
       "      <th>5162</th>\n",
       "      <td>BEATRIX, Jean Guillaume</td>\n",
       "      <td>Sochi</td>\n",
       "      <td>FRA</td>\n",
       "      <td>Biathlon</td>\n",
       "      <td>12.5Km Pursuit</td>\n",
       "      <td>Men</td>\n",
       "      <td>Bronze</td>\n",
       "      <td>Winter</td>\n",
       "      <td>Biathlon</td>\n",
       "      <td>2014</td>\n",
       "    </tr>\n",
       "    <tr>\n",
       "      <th>...</th>\n",
       "      <td>...</td>\n",
       "      <td>...</td>\n",
       "      <td>...</td>\n",
       "      <td>...</td>\n",
       "      <td>...</td>\n",
       "      <td>...</td>\n",
       "      <td>...</td>\n",
       "      <td>...</td>\n",
       "      <td>...</td>\n",
       "      <td>...</td>\n",
       "    </tr>\n",
       "    <tr>\n",
       "      <th>5765</th>\n",
       "      <td>JONES, Jenny</td>\n",
       "      <td>Sochi</td>\n",
       "      <td>GBR</td>\n",
       "      <td>Snowboard</td>\n",
       "      <td>Slopestyle</td>\n",
       "      <td>Women</td>\n",
       "      <td>Bronze</td>\n",
       "      <td>Winter</td>\n",
       "      <td>Skiing</td>\n",
       "      <td>2014</td>\n",
       "    </tr>\n",
       "    <tr>\n",
       "      <th>5766</th>\n",
       "      <td>ANDERSON, Jamie</td>\n",
       "      <td>Sochi</td>\n",
       "      <td>USA</td>\n",
       "      <td>Snowboard</td>\n",
       "      <td>Slopestyle</td>\n",
       "      <td>Women</td>\n",
       "      <td>Gold</td>\n",
       "      <td>Winter</td>\n",
       "      <td>Skiing</td>\n",
       "      <td>2014</td>\n",
       "    </tr>\n",
       "    <tr>\n",
       "      <th>5767</th>\n",
       "      <td>MALTAIS, Dominique</td>\n",
       "      <td>Sochi</td>\n",
       "      <td>CAN</td>\n",
       "      <td>Snowboard</td>\n",
       "      <td>Snowboard Cross</td>\n",
       "      <td>Women</td>\n",
       "      <td>Silver</td>\n",
       "      <td>Winter</td>\n",
       "      <td>Skiing</td>\n",
       "      <td>2014</td>\n",
       "    </tr>\n",
       "    <tr>\n",
       "      <th>5768</th>\n",
       "      <td>SAMKOVA, Eva</td>\n",
       "      <td>Sochi</td>\n",
       "      <td>CZE</td>\n",
       "      <td>Snowboard</td>\n",
       "      <td>Snowboard Cross</td>\n",
       "      <td>Women</td>\n",
       "      <td>Gold</td>\n",
       "      <td>Winter</td>\n",
       "      <td>Skiing</td>\n",
       "      <td>2014</td>\n",
       "    </tr>\n",
       "    <tr>\n",
       "      <th>5769</th>\n",
       "      <td>TRESPEUCH, Chloe</td>\n",
       "      <td>Sochi</td>\n",
       "      <td>FRA</td>\n",
       "      <td>Snowboard</td>\n",
       "      <td>Snowboard Cross</td>\n",
       "      <td>Women</td>\n",
       "      <td>Bronze</td>\n",
       "      <td>Winter</td>\n",
       "      <td>Skiing</td>\n",
       "      <td>2014</td>\n",
       "    </tr>\n",
       "  </tbody>\n",
       "</table>\n",
       "<p>612 rows × 10 columns</p>\n",
       "</div>"
      ],
      "text/plain": [
       "                      Athlete   City Country Discipline            Event  \\\n",
       "5158    LANDERTINGER, Dominik  Sochi     AUT   Biathlon             10KM   \n",
       "5159         SOUKUP, Jaroslav  Sochi     CZE   Biathlon             10KM   \n",
       "5160   BJOERNDALEN, Ole Einar  Sochi     NOR   Biathlon             10KM   \n",
       "5161          MORAVEC, Ondrej  Sochi     CZE   Biathlon   12.5Km Pursuit   \n",
       "5162  BEATRIX, Jean Guillaume  Sochi     FRA   Biathlon   12.5Km Pursuit   \n",
       "...                       ...    ...     ...        ...              ...   \n",
       "5765             JONES, Jenny  Sochi     GBR  Snowboard       Slopestyle   \n",
       "5766          ANDERSON, Jamie  Sochi     USA  Snowboard       Slopestyle   \n",
       "5767       MALTAIS, Dominique  Sochi     CAN  Snowboard  Snowboard Cross   \n",
       "5768             SAMKOVA, Eva  Sochi     CZE  Snowboard  Snowboard Cross   \n",
       "5769         TRESPEUCH, Chloe  Sochi     FRA  Snowboard  Snowboard Cross   \n",
       "\n",
       "     Gender   Medal  Season     Sport  Year  \n",
       "5158    Men  Silver  Winter  Biathlon  2014  \n",
       "5159    Men  Bronze  Winter  Biathlon  2014  \n",
       "5160    Men    Gold  Winter  Biathlon  2014  \n",
       "5161    Men  Silver  Winter  Biathlon  2014  \n",
       "5162    Men  Bronze  Winter  Biathlon  2014  \n",
       "...     ...     ...     ...       ...   ...  \n",
       "5765  Women  Bronze  Winter    Skiing  2014  \n",
       "5766  Women    Gold  Winter    Skiing  2014  \n",
       "5767  Women  Silver  Winter    Skiing  2014  \n",
       "5768  Women    Gold  Winter    Skiing  2014  \n",
       "5769  Women  Bronze  Winter    Skiing  2014  \n",
       "\n",
       "[612 rows x 10 columns]"
      ]
     },
     "execution_count": 59,
     "metadata": {},
     "output_type": "execute_result"
    }
   ],
   "source": [
    "## Store subset into dataframe called sochi_df\n",
    "df_sochi = oly[oly[\"City\"] == \"Sochi\"]\n",
    "df_sochi"
   ]
  },
  {
   "cell_type": "markdown",
   "metadata": {
    "slideshow": {
     "slide_type": "slide"
    }
   },
   "source": [
    "## How many values in a column?\n",
    "\n",
    "```df_name[\"column_name\"].value_counts()```"
   ]
  },
  {
   "cell_type": "code",
   "execution_count": 60,
   "metadata": {
    "colab": {
     "base_uri": "https://localhost:8080/"
    },
    "executionInfo": {
     "elapsed": 422,
     "status": "ok",
     "timestamp": 1617993300514,
     "user": {
      "displayName": "Sandeep Junnarkar",
      "photoUrl": "",
      "userId": "15658885848901522782"
     },
     "user_tz": 240
    },
    "id": "Nd-OtaxDlfk2",
    "outputId": "70be4815-055c-478d-ddb0-d51b45b361c7",
    "slideshow": {
     "slide_type": "slide"
    }
   },
   "outputs": [
    {
     "data": {
      "text/plain": [
       "Men      340\n",
       "Women    272\n",
       "Name: Gender, dtype: int64"
      ]
     },
     "execution_count": 60,
     "metadata": {},
     "output_type": "execute_result"
    }
   ],
   "source": [
    "## How many men and women won medals Sochi?\n",
    "# sochi_df.Gender.value_counts()\n",
    "\n",
    "df_sochi[\"Gender\"].value_counts()"
   ]
  },
  {
   "cell_type": "code",
   "execution_count": 61,
   "metadata": {},
   "outputs": [
    {
     "data": {
      "text/plain": [
       "Gold      12407\n",
       "Bronze    12288\n",
       "Silver    12240\n",
       "Name: Medal, dtype: int64"
      ]
     },
     "execution_count": 61,
     "metadata": {},
     "output_type": "execute_result"
    }
   ],
   "source": [
    "## in all olympics how many gold, silver and bronze medals were given out?\n",
    "oly[\"Medal\"].value_counts()"
   ]
  },
  {
   "cell_type": "markdown",
   "metadata": {
    "id": "9khuEizDbAOx"
   },
   "source": [
    "## Filtering by dates\n",
    "\n",
    "You'll learn more about date and time in the coming week. For now, please note how the ```Year``` column is a  ```int64``` object and NOT a ```datetime``` object. We can still work with it for our needs."
   ]
  },
  {
   "cell_type": "code",
   "execution_count": 24,
   "metadata": {
    "colab": {
     "base_uri": "https://localhost:8080/",
     "height": 570
    },
    "executionInfo": {
     "elapsed": 883,
     "status": "ok",
     "timestamp": 1617988285700,
     "user": {
      "displayName": "Sandeep Junnarkar",
      "photoUrl": "",
      "userId": "15658885848901522782"
     },
     "user_tz": 240
    },
    "id": "uGc1mesMmydi",
    "outputId": "901161cd-0f45-4adb-e862-d5d7b57b9a1d"
   },
   "outputs": [],
   "source": [
    "## Find all the 1900 competitions\n"
   ]
  },
  {
   "cell_type": "code",
   "execution_count": 25,
   "metadata": {
    "colab": {
     "base_uri": "https://localhost:8080/",
     "height": 502
    },
    "executionInfo": {
     "elapsed": 597,
     "status": "ok",
     "timestamp": 1617988656095,
     "user": {
      "displayName": "Sandeep Junnarkar",
      "photoUrl": "",
      "userId": "15658885848901522782"
     },
     "user_tz": 240
    },
    "id": "08w1FWYMomHC",
    "outputId": "41b65241-6233-4d95-f756-d28169396648"
   },
   "outputs": [],
   "source": [
    "### return all the competitions between 1920 and 1950.\n",
    "## METHOD 1\n"
   ]
  },
  {
   "cell_type": "code",
   "execution_count": 26,
   "metadata": {
    "colab": {
     "base_uri": "https://localhost:8080/",
     "height": 502
    },
    "executionInfo": {
     "elapsed": 236,
     "status": "ok",
     "timestamp": 1617988767482,
     "user": {
      "displayName": "Sandeep Junnarkar",
      "photoUrl": "",
      "userId": "15658885848901522782"
     },
     "user_tz": 240
    },
    "id": "Y16nPnFnnkaZ",
    "outputId": "2c8dcbfc-1f57-4dfb-9b9c-5e3a04bded28"
   },
   "outputs": [],
   "source": [
    "### return all the competitions between 1920 and 1950.\n",
    "### METHOD 2\n",
    "\n",
    "## Declare my filters\n",
    "\n",
    "## Filter\n",
    "\n",
    "\n"
   ]
  },
  {
   "cell_type": "code",
   "execution_count": 27,
   "metadata": {
    "colab": {
     "base_uri": "https://localhost:8080/",
     "height": 1000
    },
    "executionInfo": {
     "elapsed": 432,
     "status": "ok",
     "timestamp": 1617989083461,
     "user": {
      "displayName": "Sandeep Junnarkar",
      "photoUrl": "",
      "userId": "15658885848901522782"
     },
     "user_tz": 240
    },
    "id": "HgjDED49qb1h",
    "outputId": "5752ed02-0c59-4aa0-abd0-4459cefe85d2"
   },
   "outputs": [],
   "source": [
    "## return only Tennis competitions between 1920 and 1950.\n",
    "## METHOD 1\n"
   ]
  },
  {
   "cell_type": "code",
   "execution_count": 28,
   "metadata": {
    "id": "kUQF4-Ohp9bv"
   },
   "outputs": [],
   "source": [
    "## return only Tennis competitions between 1920 and 1950.\n",
    "\n",
    "### METHOD 2\n",
    "\n",
    "## Declare my filters\n",
    "\n",
    "\n",
    "## Filter\n"
   ]
  },
  {
   "cell_type": "code",
   "execution_count": 29,
   "metadata": {
    "id": "kUQF4-Ohp9bv"
   },
   "outputs": [],
   "source": [
    "## return only Tennis competitions between 1920 and 1950.\n",
    "\n",
    "### METHOD 3\n",
    "\n",
    "## Declare my filters with meangingful names\n",
    "\n",
    "\n",
    "## Filter\n"
   ]
  },
  {
   "cell_type": "code",
   "execution_count": 30,
   "metadata": {
    "colab": {
     "base_uri": "https://localhost:8080/",
     "height": 875
    },
    "executionInfo": {
     "elapsed": 284,
     "status": "ok",
     "timestamp": 1617989284714,
     "user": {
      "displayName": "Sandeep Junnarkar",
      "photoUrl": "",
      "userId": "15658885848901522782"
     },
     "user_tz": 240
    },
    "id": "FTJB9DD0rC-7",
    "outputId": "49791853-8db5-470c-a25f-9d76fc0eb70e"
   },
   "outputs": [],
   "source": [
    "## return only Women's Tennis competitions between 1920 and 1950 \n",
    "### METHOD 1\n",
    "\n"
   ]
  },
  {
   "cell_type": "code",
   "execution_count": 31,
   "metadata": {
    "colab": {
     "base_uri": "https://localhost:8080/",
     "height": 875
    },
    "executionInfo": {
     "elapsed": 387,
     "status": "ok",
     "timestamp": 1617991566035,
     "user": {
      "displayName": "Sandeep Junnarkar",
      "photoUrl": "",
      "userId": "15658885848901522782"
     },
     "user_tz": 240
    },
    "id": "R5Q9IF6Gqr_d",
    "outputId": "3abb81d6-6d98-4148-d13a-9b35a11ad517",
    "scrolled": true
   },
   "outputs": [],
   "source": [
    "## return only Women's Tennis competitions between 1920 and 1950 \n",
    "### METHOD 2\n",
    "\n",
    "## Declare my filters\n",
    "\n",
    "## Filter\n"
   ]
  },
  {
   "cell_type": "code",
   "execution_count": 32,
   "metadata": {
    "id": "kUQF4-Ohp9bv"
   },
   "outputs": [],
   "source": [
    "## return only Women's Tennis competitions between 1920 and 1950.\n",
    "\n",
    "### METHOD 3\n",
    "\n",
    "## Declare my filters with meangingful names\n",
    "\n",
    "\n",
    "## Filter\n"
   ]
  },
  {
   "cell_type": "markdown",
   "metadata": {
    "id": "aUuPu8Bqrb52",
    "slideshow": {
     "slide_type": "slide"
    }
   },
   "source": [
    "#### Which method did you prefer? Method 1 or 2 or 3? Why?"
   ]
  },
  {
   "cell_type": "markdown",
   "metadata": {
    "id": "etIkIijOzHES",
    "slideshow": {
     "slide_type": "slide"
    }
   },
   "source": [
    "## What year was women's boxing introduced to the olympics?"
   ]
  },
  {
   "cell_type": "code",
   "execution_count": 33,
   "metadata": {
    "colab": {
     "base_uri": "https://localhost:8080/"
    },
    "executionInfo": {
     "elapsed": 236,
     "status": "ok",
     "timestamp": 1617991446500,
     "user": {
      "displayName": "Sandeep Junnarkar",
      "photoUrl": "",
      "userId": "15658885848901522782"
     },
     "user_tz": 240
    },
    "id": "xhESZkE3zfGd",
    "outputId": "8c91cc22-9a60-4058-fe47-19b395bab757",
    "slideshow": {
     "slide_type": "slide"
    }
   },
   "outputs": [],
   "source": [
    "## find all the names of sports first.\n",
    "## how is boxing listed?\n"
   ]
  },
  {
   "cell_type": "code",
   "execution_count": 34,
   "metadata": {
    "colab": {
     "base_uri": "https://localhost:8080/",
     "height": 402
    },
    "executionInfo": {
     "elapsed": 214,
     "status": "ok",
     "timestamp": 1617991550757,
     "user": {
      "displayName": "Sandeep Junnarkar",
      "photoUrl": "",
      "userId": "15658885848901522782"
     },
     "user_tz": 240
    },
    "id": "TmEPhJu0zF-j",
    "outputId": "52661334-c00a-4e1c-f59c-93a5dffddfa5",
    "slideshow": {
     "slide_type": "slide"
    }
   },
   "outputs": [],
   "source": [
    "## create a filter for boxing and women\n",
    "\n",
    "\n",
    "## Filter\n"
   ]
  },
  {
   "cell_type": "markdown",
   "metadata": {
    "id": "3RdhPwke2ra5",
    "slideshow": {
     "slide_type": "slide"
    }
   },
   "source": [
    "## Summer v. Winter\n",
    "\n",
    "It's likely that the Summer Olympics have more medal winners than Winter Olympics. How can we check?"
   ]
  },
  {
   "cell_type": "code",
   "execution_count": 35,
   "metadata": {
    "colab": {
     "base_uri": "https://localhost:8080/"
    },
    "executionInfo": {
     "elapsed": 205,
     "status": "ok",
     "timestamp": 1617992759935,
     "user": {
      "displayName": "Sandeep Junnarkar",
      "photoUrl": "",
      "userId": "15658885848901522782"
     },
     "user_tz": 240
    },
    "id": "1e1Kk-yH2pGy",
    "outputId": "20a6eb63-4a19-4555-c717-7340cb3902b1",
    "slideshow": {
     "slide_type": "slide"
    }
   },
   "outputs": [],
   "source": [
    "## what is the total medal count for winter v. summer?\n"
   ]
  },
  {
   "cell_type": "markdown",
   "metadata": {
    "id": "kIT1NcYN11cP",
    "slideshow": {
     "slide_type": "slide"
    }
   },
   "source": [
    "## How many medals were handed out at each olympics between 1896 and 2014?\n",
    "\n",
    "Show the result from highest to lowest."
   ]
  },
  {
   "cell_type": "code",
   "execution_count": 36,
   "metadata": {
    "colab": {
     "base_uri": "https://localhost:8080/"
    },
    "executionInfo": {
     "elapsed": 225,
     "status": "ok",
     "timestamp": 1617993858685,
     "user": {
      "displayName": "Sandeep Junnarkar",
      "photoUrl": "",
      "userId": "15658885848901522782"
     },
     "user_tz": 240
    },
    "id": "bNS4BNau12NM",
    "outputId": "97fb6ae9-ae8c-4bf3-ec9b-32ac94816cd3"
   },
   "outputs": [],
   "source": [
    "## how many medals were handed out at each olympics?\n",
    "## show the result in descending order\n"
   ]
  },
  {
   "cell_type": "code",
   "execution_count": 37,
   "metadata": {
    "colab": {
     "base_uri": "https://localhost:8080/"
    },
    "executionInfo": {
     "elapsed": 195,
     "status": "ok",
     "timestamp": 1617993905113,
     "user": {
      "displayName": "Sandeep Junnarkar",
      "photoUrl": "",
      "userId": "15658885848901522782"
     },
     "user_tz": 240
    },
    "id": "P_fcUq8m7lgs",
    "outputId": "92175151-635c-4fa7-f5d6-1e247aded763"
   },
   "outputs": [],
   "source": [
    "## how many medals were handed out at each olympics each year from 2014 down to 1896.\n"
   ]
  },
  {
   "cell_type": "markdown",
   "metadata": {
    "id": "yKf-3af77lFe"
   },
   "source": [
    "## Filter and count\n",
    "\n",
    "What are the top 5 sports that France has won the most gold in?\n",
    "\n",
    "(HINT: different answers based on columns you decide to count)"
   ]
  },
  {
   "cell_type": "code",
   "execution_count": 38,
   "metadata": {
    "colab": {
     "base_uri": "https://localhost:8080/",
     "height": 452
    },
    "executionInfo": {
     "elapsed": 361,
     "status": "ok",
     "timestamp": 1617994476679,
     "user": {
      "displayName": "Sandeep Junnarkar",
      "photoUrl": "",
      "userId": "15658885848901522782"
     },
     "user_tz": 240
    },
    "id": "ebw8kwFYQan5",
    "outputId": "2409db25-6033-495f-e44a-c65eb0812c8a",
    "slideshow": {
     "slide_type": "slide"
    }
   },
   "outputs": [],
   "source": [
    "## first you need to filter by country and gold\n"
   ]
  },
  {
   "cell_type": "code",
   "execution_count": 39,
   "metadata": {
    "colab": {
     "base_uri": "https://localhost:8080/"
    },
    "executionInfo": {
     "elapsed": 266,
     "status": "ok",
     "timestamp": 1617994511491,
     "user": {
      "displayName": "Sandeep Junnarkar",
      "photoUrl": "",
      "userId": "15658885848901522782"
     },
     "user_tz": 240
    },
    "id": "Ir7eRHdDQan5",
    "outputId": "aca881a0-ef00-4e28-a9f9-e9d4e136d939",
    "slideshow": {
     "slide_type": "slide"
    }
   },
   "outputs": [],
   "source": [
    "## answer if you count gold wins by \"event\"\n"
   ]
  },
  {
   "cell_type": "code",
   "execution_count": 40,
   "metadata": {
    "colab": {
     "base_uri": "https://localhost:8080/"
    },
    "executionInfo": {
     "elapsed": 190,
     "status": "ok",
     "timestamp": 1617994524204,
     "user": {
      "displayName": "Sandeep Junnarkar",
      "photoUrl": "",
      "userId": "15658885848901522782"
     },
     "user_tz": 240
    },
    "id": "Ga9OSzVu_P9u",
    "outputId": "2b0ebb89-05e3-426e-c7b7-a35626d3257f",
    "slideshow": {
     "slide_type": "slide"
    }
   },
   "outputs": [],
   "source": [
    "## answer if you count gold wins by \"sport\"\n"
   ]
  }
 ],
 "metadata": {
  "celltoolbar": "Slideshow",
  "colab": {
   "collapsed_sections": [
    "YiVZ8MSIQvtB"
   ],
   "name": "week 5 – sorting, filtering, subsetting SOLUTIONS.ipynb",
   "provenance": []
  },
  "kernelspec": {
   "display_name": "Python 3 (ipykernel)",
   "language": "python",
   "name": "python3"
  },
  "language_info": {
   "codemirror_mode": {
    "name": "ipython",
    "version": 3
   },
   "file_extension": ".py",
   "mimetype": "text/x-python",
   "name": "python",
   "nbconvert_exporter": "python",
   "pygments_lexer": "ipython3",
   "version": "3.9.7"
  }
 },
 "nbformat": 4,
 "nbformat_minor": 1
}
